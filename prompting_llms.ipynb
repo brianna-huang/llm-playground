{
  "nbformat": 4,
  "nbformat_minor": 0,
  "metadata": {
    "colab": {
      "provenance": []
    },
    "kernelspec": {
      "name": "python3",
      "display_name": "Python 3"
    },
    "language_info": {
      "name": "python"
    },
    "widgets": {
      "application/vnd.jupyter.widget-state+json": {
        "2a2927b6daee4bf887d7ae520cb6f360": {
          "model_module": "@jupyter-widgets/controls",
          "model_name": "HBoxModel",
          "model_module_version": "1.5.0",
          "state": {
            "_dom_classes": [],
            "_model_module": "@jupyter-widgets/controls",
            "_model_module_version": "1.5.0",
            "_model_name": "HBoxModel",
            "_view_count": null,
            "_view_module": "@jupyter-widgets/controls",
            "_view_module_version": "1.5.0",
            "_view_name": "HBoxView",
            "box_style": "",
            "children": [
              "IPY_MODEL_83303fa74c334bc39b18788f76f04bd8",
              "IPY_MODEL_0b1cd3f444024d009774b6b7187223eb",
              "IPY_MODEL_5784c5549ea9479588700366b1409b6e"
            ],
            "layout": "IPY_MODEL_acfaf842444443a5b32de6da0600e4d6"
          }
        },
        "83303fa74c334bc39b18788f76f04bd8": {
          "model_module": "@jupyter-widgets/controls",
          "model_name": "HTMLModel",
          "model_module_version": "1.5.0",
          "state": {
            "_dom_classes": [],
            "_model_module": "@jupyter-widgets/controls",
            "_model_module_version": "1.5.0",
            "_model_name": "HTMLModel",
            "_view_count": null,
            "_view_module": "@jupyter-widgets/controls",
            "_view_module_version": "1.5.0",
            "_view_name": "HTMLView",
            "description": "",
            "description_tooltip": null,
            "layout": "IPY_MODEL_af5b35bbb0e544c48833cd904083b243",
            "placeholder": "​",
            "style": "IPY_MODEL_af9c0471af42457e9e45a00ad94ba54b",
            "value": "README.md: 100%"
          }
        },
        "0b1cd3f444024d009774b6b7187223eb": {
          "model_module": "@jupyter-widgets/controls",
          "model_name": "FloatProgressModel",
          "model_module_version": "1.5.0",
          "state": {
            "_dom_classes": [],
            "_model_module": "@jupyter-widgets/controls",
            "_model_module_version": "1.5.0",
            "_model_name": "FloatProgressModel",
            "_view_count": null,
            "_view_module": "@jupyter-widgets/controls",
            "_view_module_version": "1.5.0",
            "_view_name": "ProgressView",
            "bar_style": "success",
            "description": "",
            "description_tooltip": null,
            "layout": "IPY_MODEL_b515903b482444e4984b3a0df1f7aed5",
            "max": 7809,
            "min": 0,
            "orientation": "horizontal",
            "style": "IPY_MODEL_c69877d8a55841a8a2a64f42e4bf6fa1",
            "value": 7809
          }
        },
        "5784c5549ea9479588700366b1409b6e": {
          "model_module": "@jupyter-widgets/controls",
          "model_name": "HTMLModel",
          "model_module_version": "1.5.0",
          "state": {
            "_dom_classes": [],
            "_model_module": "@jupyter-widgets/controls",
            "_model_module_version": "1.5.0",
            "_model_name": "HTMLModel",
            "_view_count": null,
            "_view_module": "@jupyter-widgets/controls",
            "_view_module_version": "1.5.0",
            "_view_name": "HTMLView",
            "description": "",
            "description_tooltip": null,
            "layout": "IPY_MODEL_8fe3f14445074ef89fa76988df1786ee",
            "placeholder": "​",
            "style": "IPY_MODEL_d047bcf658384ebc804393405a388fae",
            "value": " 7.81k/7.81k [00:00&lt;00:00, 139kB/s]"
          }
        },
        "acfaf842444443a5b32de6da0600e4d6": {
          "model_module": "@jupyter-widgets/base",
          "model_name": "LayoutModel",
          "model_module_version": "1.2.0",
          "state": {
            "_model_module": "@jupyter-widgets/base",
            "_model_module_version": "1.2.0",
            "_model_name": "LayoutModel",
            "_view_count": null,
            "_view_module": "@jupyter-widgets/base",
            "_view_module_version": "1.2.0",
            "_view_name": "LayoutView",
            "align_content": null,
            "align_items": null,
            "align_self": null,
            "border": null,
            "bottom": null,
            "display": null,
            "flex": null,
            "flex_flow": null,
            "grid_area": null,
            "grid_auto_columns": null,
            "grid_auto_flow": null,
            "grid_auto_rows": null,
            "grid_column": null,
            "grid_gap": null,
            "grid_row": null,
            "grid_template_areas": null,
            "grid_template_columns": null,
            "grid_template_rows": null,
            "height": null,
            "justify_content": null,
            "justify_items": null,
            "left": null,
            "margin": null,
            "max_height": null,
            "max_width": null,
            "min_height": null,
            "min_width": null,
            "object_fit": null,
            "object_position": null,
            "order": null,
            "overflow": null,
            "overflow_x": null,
            "overflow_y": null,
            "padding": null,
            "right": null,
            "top": null,
            "visibility": null,
            "width": null
          }
        },
        "af5b35bbb0e544c48833cd904083b243": {
          "model_module": "@jupyter-widgets/base",
          "model_name": "LayoutModel",
          "model_module_version": "1.2.0",
          "state": {
            "_model_module": "@jupyter-widgets/base",
            "_model_module_version": "1.2.0",
            "_model_name": "LayoutModel",
            "_view_count": null,
            "_view_module": "@jupyter-widgets/base",
            "_view_module_version": "1.2.0",
            "_view_name": "LayoutView",
            "align_content": null,
            "align_items": null,
            "align_self": null,
            "border": null,
            "bottom": null,
            "display": null,
            "flex": null,
            "flex_flow": null,
            "grid_area": null,
            "grid_auto_columns": null,
            "grid_auto_flow": null,
            "grid_auto_rows": null,
            "grid_column": null,
            "grid_gap": null,
            "grid_row": null,
            "grid_template_areas": null,
            "grid_template_columns": null,
            "grid_template_rows": null,
            "height": null,
            "justify_content": null,
            "justify_items": null,
            "left": null,
            "margin": null,
            "max_height": null,
            "max_width": null,
            "min_height": null,
            "min_width": null,
            "object_fit": null,
            "object_position": null,
            "order": null,
            "overflow": null,
            "overflow_x": null,
            "overflow_y": null,
            "padding": null,
            "right": null,
            "top": null,
            "visibility": null,
            "width": null
          }
        },
        "af9c0471af42457e9e45a00ad94ba54b": {
          "model_module": "@jupyter-widgets/controls",
          "model_name": "DescriptionStyleModel",
          "model_module_version": "1.5.0",
          "state": {
            "_model_module": "@jupyter-widgets/controls",
            "_model_module_version": "1.5.0",
            "_model_name": "DescriptionStyleModel",
            "_view_count": null,
            "_view_module": "@jupyter-widgets/base",
            "_view_module_version": "1.2.0",
            "_view_name": "StyleView",
            "description_width": ""
          }
        },
        "b515903b482444e4984b3a0df1f7aed5": {
          "model_module": "@jupyter-widgets/base",
          "model_name": "LayoutModel",
          "model_module_version": "1.2.0",
          "state": {
            "_model_module": "@jupyter-widgets/base",
            "_model_module_version": "1.2.0",
            "_model_name": "LayoutModel",
            "_view_count": null,
            "_view_module": "@jupyter-widgets/base",
            "_view_module_version": "1.2.0",
            "_view_name": "LayoutView",
            "align_content": null,
            "align_items": null,
            "align_self": null,
            "border": null,
            "bottom": null,
            "display": null,
            "flex": null,
            "flex_flow": null,
            "grid_area": null,
            "grid_auto_columns": null,
            "grid_auto_flow": null,
            "grid_auto_rows": null,
            "grid_column": null,
            "grid_gap": null,
            "grid_row": null,
            "grid_template_areas": null,
            "grid_template_columns": null,
            "grid_template_rows": null,
            "height": null,
            "justify_content": null,
            "justify_items": null,
            "left": null,
            "margin": null,
            "max_height": null,
            "max_width": null,
            "min_height": null,
            "min_width": null,
            "object_fit": null,
            "object_position": null,
            "order": null,
            "overflow": null,
            "overflow_x": null,
            "overflow_y": null,
            "padding": null,
            "right": null,
            "top": null,
            "visibility": null,
            "width": null
          }
        },
        "c69877d8a55841a8a2a64f42e4bf6fa1": {
          "model_module": "@jupyter-widgets/controls",
          "model_name": "ProgressStyleModel",
          "model_module_version": "1.5.0",
          "state": {
            "_model_module": "@jupyter-widgets/controls",
            "_model_module_version": "1.5.0",
            "_model_name": "ProgressStyleModel",
            "_view_count": null,
            "_view_module": "@jupyter-widgets/base",
            "_view_module_version": "1.2.0",
            "_view_name": "StyleView",
            "bar_color": null,
            "description_width": ""
          }
        },
        "8fe3f14445074ef89fa76988df1786ee": {
          "model_module": "@jupyter-widgets/base",
          "model_name": "LayoutModel",
          "model_module_version": "1.2.0",
          "state": {
            "_model_module": "@jupyter-widgets/base",
            "_model_module_version": "1.2.0",
            "_model_name": "LayoutModel",
            "_view_count": null,
            "_view_module": "@jupyter-widgets/base",
            "_view_module_version": "1.2.0",
            "_view_name": "LayoutView",
            "align_content": null,
            "align_items": null,
            "align_self": null,
            "border": null,
            "bottom": null,
            "display": null,
            "flex": null,
            "flex_flow": null,
            "grid_area": null,
            "grid_auto_columns": null,
            "grid_auto_flow": null,
            "grid_auto_rows": null,
            "grid_column": null,
            "grid_gap": null,
            "grid_row": null,
            "grid_template_areas": null,
            "grid_template_columns": null,
            "grid_template_rows": null,
            "height": null,
            "justify_content": null,
            "justify_items": null,
            "left": null,
            "margin": null,
            "max_height": null,
            "max_width": null,
            "min_height": null,
            "min_width": null,
            "object_fit": null,
            "object_position": null,
            "order": null,
            "overflow": null,
            "overflow_x": null,
            "overflow_y": null,
            "padding": null,
            "right": null,
            "top": null,
            "visibility": null,
            "width": null
          }
        },
        "d047bcf658384ebc804393405a388fae": {
          "model_module": "@jupyter-widgets/controls",
          "model_name": "DescriptionStyleModel",
          "model_module_version": "1.5.0",
          "state": {
            "_model_module": "@jupyter-widgets/controls",
            "_model_module_version": "1.5.0",
            "_model_name": "DescriptionStyleModel",
            "_view_count": null,
            "_view_module": "@jupyter-widgets/base",
            "_view_module_version": "1.2.0",
            "_view_name": "StyleView",
            "description_width": ""
          }
        },
        "e345cbfd8de04c0c9584b61434abad1e": {
          "model_module": "@jupyter-widgets/controls",
          "model_name": "HBoxModel",
          "model_module_version": "1.5.0",
          "state": {
            "_dom_classes": [],
            "_model_module": "@jupyter-widgets/controls",
            "_model_module_version": "1.5.0",
            "_model_name": "HBoxModel",
            "_view_count": null,
            "_view_module": "@jupyter-widgets/controls",
            "_view_module_version": "1.5.0",
            "_view_name": "HBoxView",
            "box_style": "",
            "children": [
              "IPY_MODEL_e4399fde0c9b4fd1830910a04f01509d",
              "IPY_MODEL_57265ba9bc724724974b1cf276c9961a",
              "IPY_MODEL_d19b2f7706ae402884ce2d5127f58fb0"
            ],
            "layout": "IPY_MODEL_7e06679b0f0e443c93769c48cdb33de4"
          }
        },
        "e4399fde0c9b4fd1830910a04f01509d": {
          "model_module": "@jupyter-widgets/controls",
          "model_name": "HTMLModel",
          "model_module_version": "1.5.0",
          "state": {
            "_dom_classes": [],
            "_model_module": "@jupyter-widgets/controls",
            "_model_module_version": "1.5.0",
            "_model_name": "HTMLModel",
            "_view_count": null,
            "_view_module": "@jupyter-widgets/controls",
            "_view_module_version": "1.5.0",
            "_view_name": "HTMLView",
            "description": "",
            "description_tooltip": null,
            "layout": "IPY_MODEL_51322bd77433464d8ac2d1563d075873",
            "placeholder": "​",
            "style": "IPY_MODEL_935594c31a5a4e65821bf2ae62098576",
            "value": "train-00000-of-00001.parquet: 100%"
          }
        },
        "57265ba9bc724724974b1cf276c9961a": {
          "model_module": "@jupyter-widgets/controls",
          "model_name": "FloatProgressModel",
          "model_module_version": "1.5.0",
          "state": {
            "_dom_classes": [],
            "_model_module": "@jupyter-widgets/controls",
            "_model_module_version": "1.5.0",
            "_model_name": "FloatProgressModel",
            "_view_count": null,
            "_view_module": "@jupyter-widgets/controls",
            "_view_module_version": "1.5.0",
            "_view_name": "ProgressView",
            "bar_style": "success",
            "description": "",
            "description_tooltip": null,
            "layout": "IPY_MODEL_bc3f4b782f5448058ec9b3d61e704898",
            "max": 20979968,
            "min": 0,
            "orientation": "horizontal",
            "style": "IPY_MODEL_fc61b157b5764dab812c6c1b5b791745",
            "value": 20979968
          }
        },
        "d19b2f7706ae402884ce2d5127f58fb0": {
          "model_module": "@jupyter-widgets/controls",
          "model_name": "HTMLModel",
          "model_module_version": "1.5.0",
          "state": {
            "_dom_classes": [],
            "_model_module": "@jupyter-widgets/controls",
            "_model_module_version": "1.5.0",
            "_model_name": "HTMLModel",
            "_view_count": null,
            "_view_module": "@jupyter-widgets/controls",
            "_view_module_version": "1.5.0",
            "_view_name": "HTMLView",
            "description": "",
            "description_tooltip": null,
            "layout": "IPY_MODEL_2e4366425cb045fca8d001f2dd5eb4ac",
            "placeholder": "​",
            "style": "IPY_MODEL_178da8eafe8a4cdbb0c6be0d3e936e51",
            "value": " 21.0M/21.0M [00:00&lt;00:00, 55.2MB/s]"
          }
        },
        "7e06679b0f0e443c93769c48cdb33de4": {
          "model_module": "@jupyter-widgets/base",
          "model_name": "LayoutModel",
          "model_module_version": "1.2.0",
          "state": {
            "_model_module": "@jupyter-widgets/base",
            "_model_module_version": "1.2.0",
            "_model_name": "LayoutModel",
            "_view_count": null,
            "_view_module": "@jupyter-widgets/base",
            "_view_module_version": "1.2.0",
            "_view_name": "LayoutView",
            "align_content": null,
            "align_items": null,
            "align_self": null,
            "border": null,
            "bottom": null,
            "display": null,
            "flex": null,
            "flex_flow": null,
            "grid_area": null,
            "grid_auto_columns": null,
            "grid_auto_flow": null,
            "grid_auto_rows": null,
            "grid_column": null,
            "grid_gap": null,
            "grid_row": null,
            "grid_template_areas": null,
            "grid_template_columns": null,
            "grid_template_rows": null,
            "height": null,
            "justify_content": null,
            "justify_items": null,
            "left": null,
            "margin": null,
            "max_height": null,
            "max_width": null,
            "min_height": null,
            "min_width": null,
            "object_fit": null,
            "object_position": null,
            "order": null,
            "overflow": null,
            "overflow_x": null,
            "overflow_y": null,
            "padding": null,
            "right": null,
            "top": null,
            "visibility": null,
            "width": null
          }
        },
        "51322bd77433464d8ac2d1563d075873": {
          "model_module": "@jupyter-widgets/base",
          "model_name": "LayoutModel",
          "model_module_version": "1.2.0",
          "state": {
            "_model_module": "@jupyter-widgets/base",
            "_model_module_version": "1.2.0",
            "_model_name": "LayoutModel",
            "_view_count": null,
            "_view_module": "@jupyter-widgets/base",
            "_view_module_version": "1.2.0",
            "_view_name": "LayoutView",
            "align_content": null,
            "align_items": null,
            "align_self": null,
            "border": null,
            "bottom": null,
            "display": null,
            "flex": null,
            "flex_flow": null,
            "grid_area": null,
            "grid_auto_columns": null,
            "grid_auto_flow": null,
            "grid_auto_rows": null,
            "grid_column": null,
            "grid_gap": null,
            "grid_row": null,
            "grid_template_areas": null,
            "grid_template_columns": null,
            "grid_template_rows": null,
            "height": null,
            "justify_content": null,
            "justify_items": null,
            "left": null,
            "margin": null,
            "max_height": null,
            "max_width": null,
            "min_height": null,
            "min_width": null,
            "object_fit": null,
            "object_position": null,
            "order": null,
            "overflow": null,
            "overflow_x": null,
            "overflow_y": null,
            "padding": null,
            "right": null,
            "top": null,
            "visibility": null,
            "width": null
          }
        },
        "935594c31a5a4e65821bf2ae62098576": {
          "model_module": "@jupyter-widgets/controls",
          "model_name": "DescriptionStyleModel",
          "model_module_version": "1.5.0",
          "state": {
            "_model_module": "@jupyter-widgets/controls",
            "_model_module_version": "1.5.0",
            "_model_name": "DescriptionStyleModel",
            "_view_count": null,
            "_view_module": "@jupyter-widgets/base",
            "_view_module_version": "1.2.0",
            "_view_name": "StyleView",
            "description_width": ""
          }
        },
        "bc3f4b782f5448058ec9b3d61e704898": {
          "model_module": "@jupyter-widgets/base",
          "model_name": "LayoutModel",
          "model_module_version": "1.2.0",
          "state": {
            "_model_module": "@jupyter-widgets/base",
            "_model_module_version": "1.2.0",
            "_model_name": "LayoutModel",
            "_view_count": null,
            "_view_module": "@jupyter-widgets/base",
            "_view_module_version": "1.2.0",
            "_view_name": "LayoutView",
            "align_content": null,
            "align_items": null,
            "align_self": null,
            "border": null,
            "bottom": null,
            "display": null,
            "flex": null,
            "flex_flow": null,
            "grid_area": null,
            "grid_auto_columns": null,
            "grid_auto_flow": null,
            "grid_auto_rows": null,
            "grid_column": null,
            "grid_gap": null,
            "grid_row": null,
            "grid_template_areas": null,
            "grid_template_columns": null,
            "grid_template_rows": null,
            "height": null,
            "justify_content": null,
            "justify_items": null,
            "left": null,
            "margin": null,
            "max_height": null,
            "max_width": null,
            "min_height": null,
            "min_width": null,
            "object_fit": null,
            "object_position": null,
            "order": null,
            "overflow": null,
            "overflow_x": null,
            "overflow_y": null,
            "padding": null,
            "right": null,
            "top": null,
            "visibility": null,
            "width": null
          }
        },
        "fc61b157b5764dab812c6c1b5b791745": {
          "model_module": "@jupyter-widgets/controls",
          "model_name": "ProgressStyleModel",
          "model_module_version": "1.5.0",
          "state": {
            "_model_module": "@jupyter-widgets/controls",
            "_model_module_version": "1.5.0",
            "_model_name": "ProgressStyleModel",
            "_view_count": null,
            "_view_module": "@jupyter-widgets/base",
            "_view_module_version": "1.2.0",
            "_view_name": "StyleView",
            "bar_color": null,
            "description_width": ""
          }
        },
        "2e4366425cb045fca8d001f2dd5eb4ac": {
          "model_module": "@jupyter-widgets/base",
          "model_name": "LayoutModel",
          "model_module_version": "1.2.0",
          "state": {
            "_model_module": "@jupyter-widgets/base",
            "_model_module_version": "1.2.0",
            "_model_name": "LayoutModel",
            "_view_count": null,
            "_view_module": "@jupyter-widgets/base",
            "_view_module_version": "1.2.0",
            "_view_name": "LayoutView",
            "align_content": null,
            "align_items": null,
            "align_self": null,
            "border": null,
            "bottom": null,
            "display": null,
            "flex": null,
            "flex_flow": null,
            "grid_area": null,
            "grid_auto_columns": null,
            "grid_auto_flow": null,
            "grid_auto_rows": null,
            "grid_column": null,
            "grid_gap": null,
            "grid_row": null,
            "grid_template_areas": null,
            "grid_template_columns": null,
            "grid_template_rows": null,
            "height": null,
            "justify_content": null,
            "justify_items": null,
            "left": null,
            "margin": null,
            "max_height": null,
            "max_width": null,
            "min_height": null,
            "min_width": null,
            "object_fit": null,
            "object_position": null,
            "order": null,
            "overflow": null,
            "overflow_x": null,
            "overflow_y": null,
            "padding": null,
            "right": null,
            "top": null,
            "visibility": null,
            "width": null
          }
        },
        "178da8eafe8a4cdbb0c6be0d3e936e51": {
          "model_module": "@jupyter-widgets/controls",
          "model_name": "DescriptionStyleModel",
          "model_module_version": "1.5.0",
          "state": {
            "_model_module": "@jupyter-widgets/controls",
            "_model_module_version": "1.5.0",
            "_model_name": "DescriptionStyleModel",
            "_view_count": null,
            "_view_module": "@jupyter-widgets/base",
            "_view_module_version": "1.2.0",
            "_view_name": "StyleView",
            "description_width": ""
          }
        },
        "999a2230fe72405d83676dfe84adda0a": {
          "model_module": "@jupyter-widgets/controls",
          "model_name": "HBoxModel",
          "model_module_version": "1.5.0",
          "state": {
            "_dom_classes": [],
            "_model_module": "@jupyter-widgets/controls",
            "_model_module_version": "1.5.0",
            "_model_name": "HBoxModel",
            "_view_count": null,
            "_view_module": "@jupyter-widgets/controls",
            "_view_module_version": "1.5.0",
            "_view_name": "HBoxView",
            "box_style": "",
            "children": [
              "IPY_MODEL_76ae8ecf578a46a589c1a60c253d65ce",
              "IPY_MODEL_e7af29b58b62439d944c92970f8e1960",
              "IPY_MODEL_a63f31577e744fbc99387f7fcde189d9"
            ],
            "layout": "IPY_MODEL_1cbeb00690a9483eadefa0cd38418c03"
          }
        },
        "76ae8ecf578a46a589c1a60c253d65ce": {
          "model_module": "@jupyter-widgets/controls",
          "model_name": "HTMLModel",
          "model_module_version": "1.5.0",
          "state": {
            "_dom_classes": [],
            "_model_module": "@jupyter-widgets/controls",
            "_model_module_version": "1.5.0",
            "_model_name": "HTMLModel",
            "_view_count": null,
            "_view_module": "@jupyter-widgets/controls",
            "_view_module_version": "1.5.0",
            "_view_name": "HTMLView",
            "description": "",
            "description_tooltip": null,
            "layout": "IPY_MODEL_9004bae8b1524f26b3a7ecd55a32a067",
            "placeholder": "​",
            "style": "IPY_MODEL_98cd915dd77e49a4977de416ddce56bc",
            "value": "test-00000-of-00001.parquet: 100%"
          }
        },
        "e7af29b58b62439d944c92970f8e1960": {
          "model_module": "@jupyter-widgets/controls",
          "model_name": "FloatProgressModel",
          "model_module_version": "1.5.0",
          "state": {
            "_dom_classes": [],
            "_model_module": "@jupyter-widgets/controls",
            "_model_module_version": "1.5.0",
            "_model_name": "FloatProgressModel",
            "_view_count": null,
            "_view_module": "@jupyter-widgets/controls",
            "_view_module_version": "1.5.0",
            "_view_name": "ProgressView",
            "bar_style": "success",
            "description": "",
            "description_tooltip": null,
            "layout": "IPY_MODEL_9bfc6e1eef1d4b3b80827d6f17412b88",
            "max": 20470363,
            "min": 0,
            "orientation": "horizontal",
            "style": "IPY_MODEL_4eb7e80ed763447798eccf35da8fedac",
            "value": 20470363
          }
        },
        "a63f31577e744fbc99387f7fcde189d9": {
          "model_module": "@jupyter-widgets/controls",
          "model_name": "HTMLModel",
          "model_module_version": "1.5.0",
          "state": {
            "_dom_classes": [],
            "_model_module": "@jupyter-widgets/controls",
            "_model_module_version": "1.5.0",
            "_model_name": "HTMLModel",
            "_view_count": null,
            "_view_module": "@jupyter-widgets/controls",
            "_view_module_version": "1.5.0",
            "_view_name": "HTMLView",
            "description": "",
            "description_tooltip": null,
            "layout": "IPY_MODEL_bbd4971a9374468baf34ee4020bd8f83",
            "placeholder": "​",
            "style": "IPY_MODEL_445e182b03eb45a891b0f38a280dc0a1",
            "value": " 20.5M/20.5M [00:00&lt;00:00, 215MB/s]"
          }
        },
        "1cbeb00690a9483eadefa0cd38418c03": {
          "model_module": "@jupyter-widgets/base",
          "model_name": "LayoutModel",
          "model_module_version": "1.2.0",
          "state": {
            "_model_module": "@jupyter-widgets/base",
            "_model_module_version": "1.2.0",
            "_model_name": "LayoutModel",
            "_view_count": null,
            "_view_module": "@jupyter-widgets/base",
            "_view_module_version": "1.2.0",
            "_view_name": "LayoutView",
            "align_content": null,
            "align_items": null,
            "align_self": null,
            "border": null,
            "bottom": null,
            "display": null,
            "flex": null,
            "flex_flow": null,
            "grid_area": null,
            "grid_auto_columns": null,
            "grid_auto_flow": null,
            "grid_auto_rows": null,
            "grid_column": null,
            "grid_gap": null,
            "grid_row": null,
            "grid_template_areas": null,
            "grid_template_columns": null,
            "grid_template_rows": null,
            "height": null,
            "justify_content": null,
            "justify_items": null,
            "left": null,
            "margin": null,
            "max_height": null,
            "max_width": null,
            "min_height": null,
            "min_width": null,
            "object_fit": null,
            "object_position": null,
            "order": null,
            "overflow": null,
            "overflow_x": null,
            "overflow_y": null,
            "padding": null,
            "right": null,
            "top": null,
            "visibility": null,
            "width": null
          }
        },
        "9004bae8b1524f26b3a7ecd55a32a067": {
          "model_module": "@jupyter-widgets/base",
          "model_name": "LayoutModel",
          "model_module_version": "1.2.0",
          "state": {
            "_model_module": "@jupyter-widgets/base",
            "_model_module_version": "1.2.0",
            "_model_name": "LayoutModel",
            "_view_count": null,
            "_view_module": "@jupyter-widgets/base",
            "_view_module_version": "1.2.0",
            "_view_name": "LayoutView",
            "align_content": null,
            "align_items": null,
            "align_self": null,
            "border": null,
            "bottom": null,
            "display": null,
            "flex": null,
            "flex_flow": null,
            "grid_area": null,
            "grid_auto_columns": null,
            "grid_auto_flow": null,
            "grid_auto_rows": null,
            "grid_column": null,
            "grid_gap": null,
            "grid_row": null,
            "grid_template_areas": null,
            "grid_template_columns": null,
            "grid_template_rows": null,
            "height": null,
            "justify_content": null,
            "justify_items": null,
            "left": null,
            "margin": null,
            "max_height": null,
            "max_width": null,
            "min_height": null,
            "min_width": null,
            "object_fit": null,
            "object_position": null,
            "order": null,
            "overflow": null,
            "overflow_x": null,
            "overflow_y": null,
            "padding": null,
            "right": null,
            "top": null,
            "visibility": null,
            "width": null
          }
        },
        "98cd915dd77e49a4977de416ddce56bc": {
          "model_module": "@jupyter-widgets/controls",
          "model_name": "DescriptionStyleModel",
          "model_module_version": "1.5.0",
          "state": {
            "_model_module": "@jupyter-widgets/controls",
            "_model_module_version": "1.5.0",
            "_model_name": "DescriptionStyleModel",
            "_view_count": null,
            "_view_module": "@jupyter-widgets/base",
            "_view_module_version": "1.2.0",
            "_view_name": "StyleView",
            "description_width": ""
          }
        },
        "9bfc6e1eef1d4b3b80827d6f17412b88": {
          "model_module": "@jupyter-widgets/base",
          "model_name": "LayoutModel",
          "model_module_version": "1.2.0",
          "state": {
            "_model_module": "@jupyter-widgets/base",
            "_model_module_version": "1.2.0",
            "_model_name": "LayoutModel",
            "_view_count": null,
            "_view_module": "@jupyter-widgets/base",
            "_view_module_version": "1.2.0",
            "_view_name": "LayoutView",
            "align_content": null,
            "align_items": null,
            "align_self": null,
            "border": null,
            "bottom": null,
            "display": null,
            "flex": null,
            "flex_flow": null,
            "grid_area": null,
            "grid_auto_columns": null,
            "grid_auto_flow": null,
            "grid_auto_rows": null,
            "grid_column": null,
            "grid_gap": null,
            "grid_row": null,
            "grid_template_areas": null,
            "grid_template_columns": null,
            "grid_template_rows": null,
            "height": null,
            "justify_content": null,
            "justify_items": null,
            "left": null,
            "margin": null,
            "max_height": null,
            "max_width": null,
            "min_height": null,
            "min_width": null,
            "object_fit": null,
            "object_position": null,
            "order": null,
            "overflow": null,
            "overflow_x": null,
            "overflow_y": null,
            "padding": null,
            "right": null,
            "top": null,
            "visibility": null,
            "width": null
          }
        },
        "4eb7e80ed763447798eccf35da8fedac": {
          "model_module": "@jupyter-widgets/controls",
          "model_name": "ProgressStyleModel",
          "model_module_version": "1.5.0",
          "state": {
            "_model_module": "@jupyter-widgets/controls",
            "_model_module_version": "1.5.0",
            "_model_name": "ProgressStyleModel",
            "_view_count": null,
            "_view_module": "@jupyter-widgets/base",
            "_view_module_version": "1.2.0",
            "_view_name": "StyleView",
            "bar_color": null,
            "description_width": ""
          }
        },
        "bbd4971a9374468baf34ee4020bd8f83": {
          "model_module": "@jupyter-widgets/base",
          "model_name": "LayoutModel",
          "model_module_version": "1.2.0",
          "state": {
            "_model_module": "@jupyter-widgets/base",
            "_model_module_version": "1.2.0",
            "_model_name": "LayoutModel",
            "_view_count": null,
            "_view_module": "@jupyter-widgets/base",
            "_view_module_version": "1.2.0",
            "_view_name": "LayoutView",
            "align_content": null,
            "align_items": null,
            "align_self": null,
            "border": null,
            "bottom": null,
            "display": null,
            "flex": null,
            "flex_flow": null,
            "grid_area": null,
            "grid_auto_columns": null,
            "grid_auto_flow": null,
            "grid_auto_rows": null,
            "grid_column": null,
            "grid_gap": null,
            "grid_row": null,
            "grid_template_areas": null,
            "grid_template_columns": null,
            "grid_template_rows": null,
            "height": null,
            "justify_content": null,
            "justify_items": null,
            "left": null,
            "margin": null,
            "max_height": null,
            "max_width": null,
            "min_height": null,
            "min_width": null,
            "object_fit": null,
            "object_position": null,
            "order": null,
            "overflow": null,
            "overflow_x": null,
            "overflow_y": null,
            "padding": null,
            "right": null,
            "top": null,
            "visibility": null,
            "width": null
          }
        },
        "445e182b03eb45a891b0f38a280dc0a1": {
          "model_module": "@jupyter-widgets/controls",
          "model_name": "DescriptionStyleModel",
          "model_module_version": "1.5.0",
          "state": {
            "_model_module": "@jupyter-widgets/controls",
            "_model_module_version": "1.5.0",
            "_model_name": "DescriptionStyleModel",
            "_view_count": null,
            "_view_module": "@jupyter-widgets/base",
            "_view_module_version": "1.2.0",
            "_view_name": "StyleView",
            "description_width": ""
          }
        },
        "4275786c7ab446909c3594da2fb83e6e": {
          "model_module": "@jupyter-widgets/controls",
          "model_name": "HBoxModel",
          "model_module_version": "1.5.0",
          "state": {
            "_dom_classes": [],
            "_model_module": "@jupyter-widgets/controls",
            "_model_module_version": "1.5.0",
            "_model_name": "HBoxModel",
            "_view_count": null,
            "_view_module": "@jupyter-widgets/controls",
            "_view_module_version": "1.5.0",
            "_view_name": "HBoxView",
            "box_style": "",
            "children": [
              "IPY_MODEL_020e83ae7d9b4b85bb61495bae883209",
              "IPY_MODEL_6f8787285adf465bbc47652308d3838f",
              "IPY_MODEL_b614d186a7e34cbe9dc6240a389e9a10"
            ],
            "layout": "IPY_MODEL_25b10eff9edf4f82bb9d855782bfba06"
          }
        },
        "020e83ae7d9b4b85bb61495bae883209": {
          "model_module": "@jupyter-widgets/controls",
          "model_name": "HTMLModel",
          "model_module_version": "1.5.0",
          "state": {
            "_dom_classes": [],
            "_model_module": "@jupyter-widgets/controls",
            "_model_module_version": "1.5.0",
            "_model_name": "HTMLModel",
            "_view_count": null,
            "_view_module": "@jupyter-widgets/controls",
            "_view_module_version": "1.5.0",
            "_view_name": "HTMLView",
            "description": "",
            "description_tooltip": null,
            "layout": "IPY_MODEL_2e36daf15e9a4ecc937b94505667126b",
            "placeholder": "​",
            "style": "IPY_MODEL_f6c7ea6d9dc34ce8a32494dda0722ce8",
            "value": "unsupervised-00000-of-00001.parquet: 100%"
          }
        },
        "6f8787285adf465bbc47652308d3838f": {
          "model_module": "@jupyter-widgets/controls",
          "model_name": "FloatProgressModel",
          "model_module_version": "1.5.0",
          "state": {
            "_dom_classes": [],
            "_model_module": "@jupyter-widgets/controls",
            "_model_module_version": "1.5.0",
            "_model_name": "FloatProgressModel",
            "_view_count": null,
            "_view_module": "@jupyter-widgets/controls",
            "_view_module_version": "1.5.0",
            "_view_name": "ProgressView",
            "bar_style": "success",
            "description": "",
            "description_tooltip": null,
            "layout": "IPY_MODEL_1f886e1fe87d41d997798dd55d9c742b",
            "max": 41996509,
            "min": 0,
            "orientation": "horizontal",
            "style": "IPY_MODEL_ff4c98c2cb904fd194ffb31d6bd74fbd",
            "value": 41996509
          }
        },
        "b614d186a7e34cbe9dc6240a389e9a10": {
          "model_module": "@jupyter-widgets/controls",
          "model_name": "HTMLModel",
          "model_module_version": "1.5.0",
          "state": {
            "_dom_classes": [],
            "_model_module": "@jupyter-widgets/controls",
            "_model_module_version": "1.5.0",
            "_model_name": "HTMLModel",
            "_view_count": null,
            "_view_module": "@jupyter-widgets/controls",
            "_view_module_version": "1.5.0",
            "_view_name": "HTMLView",
            "description": "",
            "description_tooltip": null,
            "layout": "IPY_MODEL_5c1902d39f774c968aa68abb4b0187b2",
            "placeholder": "​",
            "style": "IPY_MODEL_cba677b148e745b4a2ce277b2f98bdb3",
            "value": " 42.0M/42.0M [00:00&lt;00:00, 261MB/s]"
          }
        },
        "25b10eff9edf4f82bb9d855782bfba06": {
          "model_module": "@jupyter-widgets/base",
          "model_name": "LayoutModel",
          "model_module_version": "1.2.0",
          "state": {
            "_model_module": "@jupyter-widgets/base",
            "_model_module_version": "1.2.0",
            "_model_name": "LayoutModel",
            "_view_count": null,
            "_view_module": "@jupyter-widgets/base",
            "_view_module_version": "1.2.0",
            "_view_name": "LayoutView",
            "align_content": null,
            "align_items": null,
            "align_self": null,
            "border": null,
            "bottom": null,
            "display": null,
            "flex": null,
            "flex_flow": null,
            "grid_area": null,
            "grid_auto_columns": null,
            "grid_auto_flow": null,
            "grid_auto_rows": null,
            "grid_column": null,
            "grid_gap": null,
            "grid_row": null,
            "grid_template_areas": null,
            "grid_template_columns": null,
            "grid_template_rows": null,
            "height": null,
            "justify_content": null,
            "justify_items": null,
            "left": null,
            "margin": null,
            "max_height": null,
            "max_width": null,
            "min_height": null,
            "min_width": null,
            "object_fit": null,
            "object_position": null,
            "order": null,
            "overflow": null,
            "overflow_x": null,
            "overflow_y": null,
            "padding": null,
            "right": null,
            "top": null,
            "visibility": null,
            "width": null
          }
        },
        "2e36daf15e9a4ecc937b94505667126b": {
          "model_module": "@jupyter-widgets/base",
          "model_name": "LayoutModel",
          "model_module_version": "1.2.0",
          "state": {
            "_model_module": "@jupyter-widgets/base",
            "_model_module_version": "1.2.0",
            "_model_name": "LayoutModel",
            "_view_count": null,
            "_view_module": "@jupyter-widgets/base",
            "_view_module_version": "1.2.0",
            "_view_name": "LayoutView",
            "align_content": null,
            "align_items": null,
            "align_self": null,
            "border": null,
            "bottom": null,
            "display": null,
            "flex": null,
            "flex_flow": null,
            "grid_area": null,
            "grid_auto_columns": null,
            "grid_auto_flow": null,
            "grid_auto_rows": null,
            "grid_column": null,
            "grid_gap": null,
            "grid_row": null,
            "grid_template_areas": null,
            "grid_template_columns": null,
            "grid_template_rows": null,
            "height": null,
            "justify_content": null,
            "justify_items": null,
            "left": null,
            "margin": null,
            "max_height": null,
            "max_width": null,
            "min_height": null,
            "min_width": null,
            "object_fit": null,
            "object_position": null,
            "order": null,
            "overflow": null,
            "overflow_x": null,
            "overflow_y": null,
            "padding": null,
            "right": null,
            "top": null,
            "visibility": null,
            "width": null
          }
        },
        "f6c7ea6d9dc34ce8a32494dda0722ce8": {
          "model_module": "@jupyter-widgets/controls",
          "model_name": "DescriptionStyleModel",
          "model_module_version": "1.5.0",
          "state": {
            "_model_module": "@jupyter-widgets/controls",
            "_model_module_version": "1.5.0",
            "_model_name": "DescriptionStyleModel",
            "_view_count": null,
            "_view_module": "@jupyter-widgets/base",
            "_view_module_version": "1.2.0",
            "_view_name": "StyleView",
            "description_width": ""
          }
        },
        "1f886e1fe87d41d997798dd55d9c742b": {
          "model_module": "@jupyter-widgets/base",
          "model_name": "LayoutModel",
          "model_module_version": "1.2.0",
          "state": {
            "_model_module": "@jupyter-widgets/base",
            "_model_module_version": "1.2.0",
            "_model_name": "LayoutModel",
            "_view_count": null,
            "_view_module": "@jupyter-widgets/base",
            "_view_module_version": "1.2.0",
            "_view_name": "LayoutView",
            "align_content": null,
            "align_items": null,
            "align_self": null,
            "border": null,
            "bottom": null,
            "display": null,
            "flex": null,
            "flex_flow": null,
            "grid_area": null,
            "grid_auto_columns": null,
            "grid_auto_flow": null,
            "grid_auto_rows": null,
            "grid_column": null,
            "grid_gap": null,
            "grid_row": null,
            "grid_template_areas": null,
            "grid_template_columns": null,
            "grid_template_rows": null,
            "height": null,
            "justify_content": null,
            "justify_items": null,
            "left": null,
            "margin": null,
            "max_height": null,
            "max_width": null,
            "min_height": null,
            "min_width": null,
            "object_fit": null,
            "object_position": null,
            "order": null,
            "overflow": null,
            "overflow_x": null,
            "overflow_y": null,
            "padding": null,
            "right": null,
            "top": null,
            "visibility": null,
            "width": null
          }
        },
        "ff4c98c2cb904fd194ffb31d6bd74fbd": {
          "model_module": "@jupyter-widgets/controls",
          "model_name": "ProgressStyleModel",
          "model_module_version": "1.5.0",
          "state": {
            "_model_module": "@jupyter-widgets/controls",
            "_model_module_version": "1.5.0",
            "_model_name": "ProgressStyleModel",
            "_view_count": null,
            "_view_module": "@jupyter-widgets/base",
            "_view_module_version": "1.2.0",
            "_view_name": "StyleView",
            "bar_color": null,
            "description_width": ""
          }
        },
        "5c1902d39f774c968aa68abb4b0187b2": {
          "model_module": "@jupyter-widgets/base",
          "model_name": "LayoutModel",
          "model_module_version": "1.2.0",
          "state": {
            "_model_module": "@jupyter-widgets/base",
            "_model_module_version": "1.2.0",
            "_model_name": "LayoutModel",
            "_view_count": null,
            "_view_module": "@jupyter-widgets/base",
            "_view_module_version": "1.2.0",
            "_view_name": "LayoutView",
            "align_content": null,
            "align_items": null,
            "align_self": null,
            "border": null,
            "bottom": null,
            "display": null,
            "flex": null,
            "flex_flow": null,
            "grid_area": null,
            "grid_auto_columns": null,
            "grid_auto_flow": null,
            "grid_auto_rows": null,
            "grid_column": null,
            "grid_gap": null,
            "grid_row": null,
            "grid_template_areas": null,
            "grid_template_columns": null,
            "grid_template_rows": null,
            "height": null,
            "justify_content": null,
            "justify_items": null,
            "left": null,
            "margin": null,
            "max_height": null,
            "max_width": null,
            "min_height": null,
            "min_width": null,
            "object_fit": null,
            "object_position": null,
            "order": null,
            "overflow": null,
            "overflow_x": null,
            "overflow_y": null,
            "padding": null,
            "right": null,
            "top": null,
            "visibility": null,
            "width": null
          }
        },
        "cba677b148e745b4a2ce277b2f98bdb3": {
          "model_module": "@jupyter-widgets/controls",
          "model_name": "DescriptionStyleModel",
          "model_module_version": "1.5.0",
          "state": {
            "_model_module": "@jupyter-widgets/controls",
            "_model_module_version": "1.5.0",
            "_model_name": "DescriptionStyleModel",
            "_view_count": null,
            "_view_module": "@jupyter-widgets/base",
            "_view_module_version": "1.2.0",
            "_view_name": "StyleView",
            "description_width": ""
          }
        },
        "400338d3773c4993929f4fe918f7d966": {
          "model_module": "@jupyter-widgets/controls",
          "model_name": "HBoxModel",
          "model_module_version": "1.5.0",
          "state": {
            "_dom_classes": [],
            "_model_module": "@jupyter-widgets/controls",
            "_model_module_version": "1.5.0",
            "_model_name": "HBoxModel",
            "_view_count": null,
            "_view_module": "@jupyter-widgets/controls",
            "_view_module_version": "1.5.0",
            "_view_name": "HBoxView",
            "box_style": "",
            "children": [
              "IPY_MODEL_4248890ff0a340a8b7b45310a5a8abbd",
              "IPY_MODEL_6ef99f72a4914ce08b6c9e814495e96f",
              "IPY_MODEL_bf5c2b0e8fef4db0a5710ac718aa9735"
            ],
            "layout": "IPY_MODEL_76d369c8f48f4b2da21f280f8b83cb20"
          }
        },
        "4248890ff0a340a8b7b45310a5a8abbd": {
          "model_module": "@jupyter-widgets/controls",
          "model_name": "HTMLModel",
          "model_module_version": "1.5.0",
          "state": {
            "_dom_classes": [],
            "_model_module": "@jupyter-widgets/controls",
            "_model_module_version": "1.5.0",
            "_model_name": "HTMLModel",
            "_view_count": null,
            "_view_module": "@jupyter-widgets/controls",
            "_view_module_version": "1.5.0",
            "_view_name": "HTMLView",
            "description": "",
            "description_tooltip": null,
            "layout": "IPY_MODEL_ebfcfe9c7ef14906a1e5b46519c19a5e",
            "placeholder": "​",
            "style": "IPY_MODEL_0611efc21db346469fc5d3b41def514c",
            "value": "Generating train split: 100%"
          }
        },
        "6ef99f72a4914ce08b6c9e814495e96f": {
          "model_module": "@jupyter-widgets/controls",
          "model_name": "FloatProgressModel",
          "model_module_version": "1.5.0",
          "state": {
            "_dom_classes": [],
            "_model_module": "@jupyter-widgets/controls",
            "_model_module_version": "1.5.0",
            "_model_name": "FloatProgressModel",
            "_view_count": null,
            "_view_module": "@jupyter-widgets/controls",
            "_view_module_version": "1.5.0",
            "_view_name": "ProgressView",
            "bar_style": "success",
            "description": "",
            "description_tooltip": null,
            "layout": "IPY_MODEL_c0f75b4f1f8c416e8d0b803cd53ea1bb",
            "max": 25000,
            "min": 0,
            "orientation": "horizontal",
            "style": "IPY_MODEL_bfa625310cfb4cef8776553b1abdde55",
            "value": 25000
          }
        },
        "bf5c2b0e8fef4db0a5710ac718aa9735": {
          "model_module": "@jupyter-widgets/controls",
          "model_name": "HTMLModel",
          "model_module_version": "1.5.0",
          "state": {
            "_dom_classes": [],
            "_model_module": "@jupyter-widgets/controls",
            "_model_module_version": "1.5.0",
            "_model_name": "HTMLModel",
            "_view_count": null,
            "_view_module": "@jupyter-widgets/controls",
            "_view_module_version": "1.5.0",
            "_view_name": "HTMLView",
            "description": "",
            "description_tooltip": null,
            "layout": "IPY_MODEL_2644671baaf646a1a2cd3df35733ad82",
            "placeholder": "​",
            "style": "IPY_MODEL_4d4c7a7797de464495e6e1e1834cd5c6",
            "value": " 25000/25000 [00:00&lt;00:00, 84734.42 examples/s]"
          }
        },
        "76d369c8f48f4b2da21f280f8b83cb20": {
          "model_module": "@jupyter-widgets/base",
          "model_name": "LayoutModel",
          "model_module_version": "1.2.0",
          "state": {
            "_model_module": "@jupyter-widgets/base",
            "_model_module_version": "1.2.0",
            "_model_name": "LayoutModel",
            "_view_count": null,
            "_view_module": "@jupyter-widgets/base",
            "_view_module_version": "1.2.0",
            "_view_name": "LayoutView",
            "align_content": null,
            "align_items": null,
            "align_self": null,
            "border": null,
            "bottom": null,
            "display": null,
            "flex": null,
            "flex_flow": null,
            "grid_area": null,
            "grid_auto_columns": null,
            "grid_auto_flow": null,
            "grid_auto_rows": null,
            "grid_column": null,
            "grid_gap": null,
            "grid_row": null,
            "grid_template_areas": null,
            "grid_template_columns": null,
            "grid_template_rows": null,
            "height": null,
            "justify_content": null,
            "justify_items": null,
            "left": null,
            "margin": null,
            "max_height": null,
            "max_width": null,
            "min_height": null,
            "min_width": null,
            "object_fit": null,
            "object_position": null,
            "order": null,
            "overflow": null,
            "overflow_x": null,
            "overflow_y": null,
            "padding": null,
            "right": null,
            "top": null,
            "visibility": null,
            "width": null
          }
        },
        "ebfcfe9c7ef14906a1e5b46519c19a5e": {
          "model_module": "@jupyter-widgets/base",
          "model_name": "LayoutModel",
          "model_module_version": "1.2.0",
          "state": {
            "_model_module": "@jupyter-widgets/base",
            "_model_module_version": "1.2.0",
            "_model_name": "LayoutModel",
            "_view_count": null,
            "_view_module": "@jupyter-widgets/base",
            "_view_module_version": "1.2.0",
            "_view_name": "LayoutView",
            "align_content": null,
            "align_items": null,
            "align_self": null,
            "border": null,
            "bottom": null,
            "display": null,
            "flex": null,
            "flex_flow": null,
            "grid_area": null,
            "grid_auto_columns": null,
            "grid_auto_flow": null,
            "grid_auto_rows": null,
            "grid_column": null,
            "grid_gap": null,
            "grid_row": null,
            "grid_template_areas": null,
            "grid_template_columns": null,
            "grid_template_rows": null,
            "height": null,
            "justify_content": null,
            "justify_items": null,
            "left": null,
            "margin": null,
            "max_height": null,
            "max_width": null,
            "min_height": null,
            "min_width": null,
            "object_fit": null,
            "object_position": null,
            "order": null,
            "overflow": null,
            "overflow_x": null,
            "overflow_y": null,
            "padding": null,
            "right": null,
            "top": null,
            "visibility": null,
            "width": null
          }
        },
        "0611efc21db346469fc5d3b41def514c": {
          "model_module": "@jupyter-widgets/controls",
          "model_name": "DescriptionStyleModel",
          "model_module_version": "1.5.0",
          "state": {
            "_model_module": "@jupyter-widgets/controls",
            "_model_module_version": "1.5.0",
            "_model_name": "DescriptionStyleModel",
            "_view_count": null,
            "_view_module": "@jupyter-widgets/base",
            "_view_module_version": "1.2.0",
            "_view_name": "StyleView",
            "description_width": ""
          }
        },
        "c0f75b4f1f8c416e8d0b803cd53ea1bb": {
          "model_module": "@jupyter-widgets/base",
          "model_name": "LayoutModel",
          "model_module_version": "1.2.0",
          "state": {
            "_model_module": "@jupyter-widgets/base",
            "_model_module_version": "1.2.0",
            "_model_name": "LayoutModel",
            "_view_count": null,
            "_view_module": "@jupyter-widgets/base",
            "_view_module_version": "1.2.0",
            "_view_name": "LayoutView",
            "align_content": null,
            "align_items": null,
            "align_self": null,
            "border": null,
            "bottom": null,
            "display": null,
            "flex": null,
            "flex_flow": null,
            "grid_area": null,
            "grid_auto_columns": null,
            "grid_auto_flow": null,
            "grid_auto_rows": null,
            "grid_column": null,
            "grid_gap": null,
            "grid_row": null,
            "grid_template_areas": null,
            "grid_template_columns": null,
            "grid_template_rows": null,
            "height": null,
            "justify_content": null,
            "justify_items": null,
            "left": null,
            "margin": null,
            "max_height": null,
            "max_width": null,
            "min_height": null,
            "min_width": null,
            "object_fit": null,
            "object_position": null,
            "order": null,
            "overflow": null,
            "overflow_x": null,
            "overflow_y": null,
            "padding": null,
            "right": null,
            "top": null,
            "visibility": null,
            "width": null
          }
        },
        "bfa625310cfb4cef8776553b1abdde55": {
          "model_module": "@jupyter-widgets/controls",
          "model_name": "ProgressStyleModel",
          "model_module_version": "1.5.0",
          "state": {
            "_model_module": "@jupyter-widgets/controls",
            "_model_module_version": "1.5.0",
            "_model_name": "ProgressStyleModel",
            "_view_count": null,
            "_view_module": "@jupyter-widgets/base",
            "_view_module_version": "1.2.0",
            "_view_name": "StyleView",
            "bar_color": null,
            "description_width": ""
          }
        },
        "2644671baaf646a1a2cd3df35733ad82": {
          "model_module": "@jupyter-widgets/base",
          "model_name": "LayoutModel",
          "model_module_version": "1.2.0",
          "state": {
            "_model_module": "@jupyter-widgets/base",
            "_model_module_version": "1.2.0",
            "_model_name": "LayoutModel",
            "_view_count": null,
            "_view_module": "@jupyter-widgets/base",
            "_view_module_version": "1.2.0",
            "_view_name": "LayoutView",
            "align_content": null,
            "align_items": null,
            "align_self": null,
            "border": null,
            "bottom": null,
            "display": null,
            "flex": null,
            "flex_flow": null,
            "grid_area": null,
            "grid_auto_columns": null,
            "grid_auto_flow": null,
            "grid_auto_rows": null,
            "grid_column": null,
            "grid_gap": null,
            "grid_row": null,
            "grid_template_areas": null,
            "grid_template_columns": null,
            "grid_template_rows": null,
            "height": null,
            "justify_content": null,
            "justify_items": null,
            "left": null,
            "margin": null,
            "max_height": null,
            "max_width": null,
            "min_height": null,
            "min_width": null,
            "object_fit": null,
            "object_position": null,
            "order": null,
            "overflow": null,
            "overflow_x": null,
            "overflow_y": null,
            "padding": null,
            "right": null,
            "top": null,
            "visibility": null,
            "width": null
          }
        },
        "4d4c7a7797de464495e6e1e1834cd5c6": {
          "model_module": "@jupyter-widgets/controls",
          "model_name": "DescriptionStyleModel",
          "model_module_version": "1.5.0",
          "state": {
            "_model_module": "@jupyter-widgets/controls",
            "_model_module_version": "1.5.0",
            "_model_name": "DescriptionStyleModel",
            "_view_count": null,
            "_view_module": "@jupyter-widgets/base",
            "_view_module_version": "1.2.0",
            "_view_name": "StyleView",
            "description_width": ""
          }
        },
        "fc9b0cbbc30e41159533201dae924a6b": {
          "model_module": "@jupyter-widgets/controls",
          "model_name": "HBoxModel",
          "model_module_version": "1.5.0",
          "state": {
            "_dom_classes": [],
            "_model_module": "@jupyter-widgets/controls",
            "_model_module_version": "1.5.0",
            "_model_name": "HBoxModel",
            "_view_count": null,
            "_view_module": "@jupyter-widgets/controls",
            "_view_module_version": "1.5.0",
            "_view_name": "HBoxView",
            "box_style": "",
            "children": [
              "IPY_MODEL_448e8fecaabc42ac9129fe734f2daf36",
              "IPY_MODEL_a27abcf50f3b4828affae2a756515b8b",
              "IPY_MODEL_ac535addf6694d29a42356d3b6d6d2e0"
            ],
            "layout": "IPY_MODEL_eb9b7d1ed3db4e3b8a6cc40b9b9ad8dd"
          }
        },
        "448e8fecaabc42ac9129fe734f2daf36": {
          "model_module": "@jupyter-widgets/controls",
          "model_name": "HTMLModel",
          "model_module_version": "1.5.0",
          "state": {
            "_dom_classes": [],
            "_model_module": "@jupyter-widgets/controls",
            "_model_module_version": "1.5.0",
            "_model_name": "HTMLModel",
            "_view_count": null,
            "_view_module": "@jupyter-widgets/controls",
            "_view_module_version": "1.5.0",
            "_view_name": "HTMLView",
            "description": "",
            "description_tooltip": null,
            "layout": "IPY_MODEL_64bfb4f721f5431584e82ffbea3441cf",
            "placeholder": "​",
            "style": "IPY_MODEL_e01d41b9d8794e9a982586940e606566",
            "value": "Generating test split: 100%"
          }
        },
        "a27abcf50f3b4828affae2a756515b8b": {
          "model_module": "@jupyter-widgets/controls",
          "model_name": "FloatProgressModel",
          "model_module_version": "1.5.0",
          "state": {
            "_dom_classes": [],
            "_model_module": "@jupyter-widgets/controls",
            "_model_module_version": "1.5.0",
            "_model_name": "FloatProgressModel",
            "_view_count": null,
            "_view_module": "@jupyter-widgets/controls",
            "_view_module_version": "1.5.0",
            "_view_name": "ProgressView",
            "bar_style": "success",
            "description": "",
            "description_tooltip": null,
            "layout": "IPY_MODEL_6ffa083720cc459dad3f65baf3f4483d",
            "max": 25000,
            "min": 0,
            "orientation": "horizontal",
            "style": "IPY_MODEL_439bb32ca38c4881b0d4adca5ea61998",
            "value": 25000
          }
        },
        "ac535addf6694d29a42356d3b6d6d2e0": {
          "model_module": "@jupyter-widgets/controls",
          "model_name": "HTMLModel",
          "model_module_version": "1.5.0",
          "state": {
            "_dom_classes": [],
            "_model_module": "@jupyter-widgets/controls",
            "_model_module_version": "1.5.0",
            "_model_name": "HTMLModel",
            "_view_count": null,
            "_view_module": "@jupyter-widgets/controls",
            "_view_module_version": "1.5.0",
            "_view_name": "HTMLView",
            "description": "",
            "description_tooltip": null,
            "layout": "IPY_MODEL_285cbc6038814a6abf25f290e30e578f",
            "placeholder": "​",
            "style": "IPY_MODEL_faf2481658254caf9a15809605603fad",
            "value": " 25000/25000 [00:00&lt;00:00, 72513.87 examples/s]"
          }
        },
        "eb9b7d1ed3db4e3b8a6cc40b9b9ad8dd": {
          "model_module": "@jupyter-widgets/base",
          "model_name": "LayoutModel",
          "model_module_version": "1.2.0",
          "state": {
            "_model_module": "@jupyter-widgets/base",
            "_model_module_version": "1.2.0",
            "_model_name": "LayoutModel",
            "_view_count": null,
            "_view_module": "@jupyter-widgets/base",
            "_view_module_version": "1.2.0",
            "_view_name": "LayoutView",
            "align_content": null,
            "align_items": null,
            "align_self": null,
            "border": null,
            "bottom": null,
            "display": null,
            "flex": null,
            "flex_flow": null,
            "grid_area": null,
            "grid_auto_columns": null,
            "grid_auto_flow": null,
            "grid_auto_rows": null,
            "grid_column": null,
            "grid_gap": null,
            "grid_row": null,
            "grid_template_areas": null,
            "grid_template_columns": null,
            "grid_template_rows": null,
            "height": null,
            "justify_content": null,
            "justify_items": null,
            "left": null,
            "margin": null,
            "max_height": null,
            "max_width": null,
            "min_height": null,
            "min_width": null,
            "object_fit": null,
            "object_position": null,
            "order": null,
            "overflow": null,
            "overflow_x": null,
            "overflow_y": null,
            "padding": null,
            "right": null,
            "top": null,
            "visibility": null,
            "width": null
          }
        },
        "64bfb4f721f5431584e82ffbea3441cf": {
          "model_module": "@jupyter-widgets/base",
          "model_name": "LayoutModel",
          "model_module_version": "1.2.0",
          "state": {
            "_model_module": "@jupyter-widgets/base",
            "_model_module_version": "1.2.0",
            "_model_name": "LayoutModel",
            "_view_count": null,
            "_view_module": "@jupyter-widgets/base",
            "_view_module_version": "1.2.0",
            "_view_name": "LayoutView",
            "align_content": null,
            "align_items": null,
            "align_self": null,
            "border": null,
            "bottom": null,
            "display": null,
            "flex": null,
            "flex_flow": null,
            "grid_area": null,
            "grid_auto_columns": null,
            "grid_auto_flow": null,
            "grid_auto_rows": null,
            "grid_column": null,
            "grid_gap": null,
            "grid_row": null,
            "grid_template_areas": null,
            "grid_template_columns": null,
            "grid_template_rows": null,
            "height": null,
            "justify_content": null,
            "justify_items": null,
            "left": null,
            "margin": null,
            "max_height": null,
            "max_width": null,
            "min_height": null,
            "min_width": null,
            "object_fit": null,
            "object_position": null,
            "order": null,
            "overflow": null,
            "overflow_x": null,
            "overflow_y": null,
            "padding": null,
            "right": null,
            "top": null,
            "visibility": null,
            "width": null
          }
        },
        "e01d41b9d8794e9a982586940e606566": {
          "model_module": "@jupyter-widgets/controls",
          "model_name": "DescriptionStyleModel",
          "model_module_version": "1.5.0",
          "state": {
            "_model_module": "@jupyter-widgets/controls",
            "_model_module_version": "1.5.0",
            "_model_name": "DescriptionStyleModel",
            "_view_count": null,
            "_view_module": "@jupyter-widgets/base",
            "_view_module_version": "1.2.0",
            "_view_name": "StyleView",
            "description_width": ""
          }
        },
        "6ffa083720cc459dad3f65baf3f4483d": {
          "model_module": "@jupyter-widgets/base",
          "model_name": "LayoutModel",
          "model_module_version": "1.2.0",
          "state": {
            "_model_module": "@jupyter-widgets/base",
            "_model_module_version": "1.2.0",
            "_model_name": "LayoutModel",
            "_view_count": null,
            "_view_module": "@jupyter-widgets/base",
            "_view_module_version": "1.2.0",
            "_view_name": "LayoutView",
            "align_content": null,
            "align_items": null,
            "align_self": null,
            "border": null,
            "bottom": null,
            "display": null,
            "flex": null,
            "flex_flow": null,
            "grid_area": null,
            "grid_auto_columns": null,
            "grid_auto_flow": null,
            "grid_auto_rows": null,
            "grid_column": null,
            "grid_gap": null,
            "grid_row": null,
            "grid_template_areas": null,
            "grid_template_columns": null,
            "grid_template_rows": null,
            "height": null,
            "justify_content": null,
            "justify_items": null,
            "left": null,
            "margin": null,
            "max_height": null,
            "max_width": null,
            "min_height": null,
            "min_width": null,
            "object_fit": null,
            "object_position": null,
            "order": null,
            "overflow": null,
            "overflow_x": null,
            "overflow_y": null,
            "padding": null,
            "right": null,
            "top": null,
            "visibility": null,
            "width": null
          }
        },
        "439bb32ca38c4881b0d4adca5ea61998": {
          "model_module": "@jupyter-widgets/controls",
          "model_name": "ProgressStyleModel",
          "model_module_version": "1.5.0",
          "state": {
            "_model_module": "@jupyter-widgets/controls",
            "_model_module_version": "1.5.0",
            "_model_name": "ProgressStyleModel",
            "_view_count": null,
            "_view_module": "@jupyter-widgets/base",
            "_view_module_version": "1.2.0",
            "_view_name": "StyleView",
            "bar_color": null,
            "description_width": ""
          }
        },
        "285cbc6038814a6abf25f290e30e578f": {
          "model_module": "@jupyter-widgets/base",
          "model_name": "LayoutModel",
          "model_module_version": "1.2.0",
          "state": {
            "_model_module": "@jupyter-widgets/base",
            "_model_module_version": "1.2.0",
            "_model_name": "LayoutModel",
            "_view_count": null,
            "_view_module": "@jupyter-widgets/base",
            "_view_module_version": "1.2.0",
            "_view_name": "LayoutView",
            "align_content": null,
            "align_items": null,
            "align_self": null,
            "border": null,
            "bottom": null,
            "display": null,
            "flex": null,
            "flex_flow": null,
            "grid_area": null,
            "grid_auto_columns": null,
            "grid_auto_flow": null,
            "grid_auto_rows": null,
            "grid_column": null,
            "grid_gap": null,
            "grid_row": null,
            "grid_template_areas": null,
            "grid_template_columns": null,
            "grid_template_rows": null,
            "height": null,
            "justify_content": null,
            "justify_items": null,
            "left": null,
            "margin": null,
            "max_height": null,
            "max_width": null,
            "min_height": null,
            "min_width": null,
            "object_fit": null,
            "object_position": null,
            "order": null,
            "overflow": null,
            "overflow_x": null,
            "overflow_y": null,
            "padding": null,
            "right": null,
            "top": null,
            "visibility": null,
            "width": null
          }
        },
        "faf2481658254caf9a15809605603fad": {
          "model_module": "@jupyter-widgets/controls",
          "model_name": "DescriptionStyleModel",
          "model_module_version": "1.5.0",
          "state": {
            "_model_module": "@jupyter-widgets/controls",
            "_model_module_version": "1.5.0",
            "_model_name": "DescriptionStyleModel",
            "_view_count": null,
            "_view_module": "@jupyter-widgets/base",
            "_view_module_version": "1.2.0",
            "_view_name": "StyleView",
            "description_width": ""
          }
        },
        "5b7b89535e5f4b569ec7482ec0fd5b8a": {
          "model_module": "@jupyter-widgets/controls",
          "model_name": "HBoxModel",
          "model_module_version": "1.5.0",
          "state": {
            "_dom_classes": [],
            "_model_module": "@jupyter-widgets/controls",
            "_model_module_version": "1.5.0",
            "_model_name": "HBoxModel",
            "_view_count": null,
            "_view_module": "@jupyter-widgets/controls",
            "_view_module_version": "1.5.0",
            "_view_name": "HBoxView",
            "box_style": "",
            "children": [
              "IPY_MODEL_5ec9b049c03e41e59f0a061ea962a475",
              "IPY_MODEL_e021df4523cc45489b69816491f333b6",
              "IPY_MODEL_b58474091f1446aca020bd5ca316955a"
            ],
            "layout": "IPY_MODEL_feadb86967a24a3a9a6b479e70341dab"
          }
        },
        "5ec9b049c03e41e59f0a061ea962a475": {
          "model_module": "@jupyter-widgets/controls",
          "model_name": "HTMLModel",
          "model_module_version": "1.5.0",
          "state": {
            "_dom_classes": [],
            "_model_module": "@jupyter-widgets/controls",
            "_model_module_version": "1.5.0",
            "_model_name": "HTMLModel",
            "_view_count": null,
            "_view_module": "@jupyter-widgets/controls",
            "_view_module_version": "1.5.0",
            "_view_name": "HTMLView",
            "description": "",
            "description_tooltip": null,
            "layout": "IPY_MODEL_e14c21e6e92e4c51a2205ddb4557470f",
            "placeholder": "​",
            "style": "IPY_MODEL_a32b65696bbf4ee39e0805476a4865da",
            "value": "Generating unsupervised split: 100%"
          }
        },
        "e021df4523cc45489b69816491f333b6": {
          "model_module": "@jupyter-widgets/controls",
          "model_name": "FloatProgressModel",
          "model_module_version": "1.5.0",
          "state": {
            "_dom_classes": [],
            "_model_module": "@jupyter-widgets/controls",
            "_model_module_version": "1.5.0",
            "_model_name": "FloatProgressModel",
            "_view_count": null,
            "_view_module": "@jupyter-widgets/controls",
            "_view_module_version": "1.5.0",
            "_view_name": "ProgressView",
            "bar_style": "success",
            "description": "",
            "description_tooltip": null,
            "layout": "IPY_MODEL_a38c9954bdc3493ea4ea71ff4489dda4",
            "max": 50000,
            "min": 0,
            "orientation": "horizontal",
            "style": "IPY_MODEL_d48295c4cbdc4111aa551a302118f817",
            "value": 50000
          }
        },
        "b58474091f1446aca020bd5ca316955a": {
          "model_module": "@jupyter-widgets/controls",
          "model_name": "HTMLModel",
          "model_module_version": "1.5.0",
          "state": {
            "_dom_classes": [],
            "_model_module": "@jupyter-widgets/controls",
            "_model_module_version": "1.5.0",
            "_model_name": "HTMLModel",
            "_view_count": null,
            "_view_module": "@jupyter-widgets/controls",
            "_view_module_version": "1.5.0",
            "_view_name": "HTMLView",
            "description": "",
            "description_tooltip": null,
            "layout": "IPY_MODEL_8084b0cb237a456294149b5c83e95551",
            "placeholder": "​",
            "style": "IPY_MODEL_41c338dc2fa44c22850fb7c3555b12b7",
            "value": " 50000/50000 [00:00&lt;00:00, 102676.37 examples/s]"
          }
        },
        "feadb86967a24a3a9a6b479e70341dab": {
          "model_module": "@jupyter-widgets/base",
          "model_name": "LayoutModel",
          "model_module_version": "1.2.0",
          "state": {
            "_model_module": "@jupyter-widgets/base",
            "_model_module_version": "1.2.0",
            "_model_name": "LayoutModel",
            "_view_count": null,
            "_view_module": "@jupyter-widgets/base",
            "_view_module_version": "1.2.0",
            "_view_name": "LayoutView",
            "align_content": null,
            "align_items": null,
            "align_self": null,
            "border": null,
            "bottom": null,
            "display": null,
            "flex": null,
            "flex_flow": null,
            "grid_area": null,
            "grid_auto_columns": null,
            "grid_auto_flow": null,
            "grid_auto_rows": null,
            "grid_column": null,
            "grid_gap": null,
            "grid_row": null,
            "grid_template_areas": null,
            "grid_template_columns": null,
            "grid_template_rows": null,
            "height": null,
            "justify_content": null,
            "justify_items": null,
            "left": null,
            "margin": null,
            "max_height": null,
            "max_width": null,
            "min_height": null,
            "min_width": null,
            "object_fit": null,
            "object_position": null,
            "order": null,
            "overflow": null,
            "overflow_x": null,
            "overflow_y": null,
            "padding": null,
            "right": null,
            "top": null,
            "visibility": null,
            "width": null
          }
        },
        "e14c21e6e92e4c51a2205ddb4557470f": {
          "model_module": "@jupyter-widgets/base",
          "model_name": "LayoutModel",
          "model_module_version": "1.2.0",
          "state": {
            "_model_module": "@jupyter-widgets/base",
            "_model_module_version": "1.2.0",
            "_model_name": "LayoutModel",
            "_view_count": null,
            "_view_module": "@jupyter-widgets/base",
            "_view_module_version": "1.2.0",
            "_view_name": "LayoutView",
            "align_content": null,
            "align_items": null,
            "align_self": null,
            "border": null,
            "bottom": null,
            "display": null,
            "flex": null,
            "flex_flow": null,
            "grid_area": null,
            "grid_auto_columns": null,
            "grid_auto_flow": null,
            "grid_auto_rows": null,
            "grid_column": null,
            "grid_gap": null,
            "grid_row": null,
            "grid_template_areas": null,
            "grid_template_columns": null,
            "grid_template_rows": null,
            "height": null,
            "justify_content": null,
            "justify_items": null,
            "left": null,
            "margin": null,
            "max_height": null,
            "max_width": null,
            "min_height": null,
            "min_width": null,
            "object_fit": null,
            "object_position": null,
            "order": null,
            "overflow": null,
            "overflow_x": null,
            "overflow_y": null,
            "padding": null,
            "right": null,
            "top": null,
            "visibility": null,
            "width": null
          }
        },
        "a32b65696bbf4ee39e0805476a4865da": {
          "model_module": "@jupyter-widgets/controls",
          "model_name": "DescriptionStyleModel",
          "model_module_version": "1.5.0",
          "state": {
            "_model_module": "@jupyter-widgets/controls",
            "_model_module_version": "1.5.0",
            "_model_name": "DescriptionStyleModel",
            "_view_count": null,
            "_view_module": "@jupyter-widgets/base",
            "_view_module_version": "1.2.0",
            "_view_name": "StyleView",
            "description_width": ""
          }
        },
        "a38c9954bdc3493ea4ea71ff4489dda4": {
          "model_module": "@jupyter-widgets/base",
          "model_name": "LayoutModel",
          "model_module_version": "1.2.0",
          "state": {
            "_model_module": "@jupyter-widgets/base",
            "_model_module_version": "1.2.0",
            "_model_name": "LayoutModel",
            "_view_count": null,
            "_view_module": "@jupyter-widgets/base",
            "_view_module_version": "1.2.0",
            "_view_name": "LayoutView",
            "align_content": null,
            "align_items": null,
            "align_self": null,
            "border": null,
            "bottom": null,
            "display": null,
            "flex": null,
            "flex_flow": null,
            "grid_area": null,
            "grid_auto_columns": null,
            "grid_auto_flow": null,
            "grid_auto_rows": null,
            "grid_column": null,
            "grid_gap": null,
            "grid_row": null,
            "grid_template_areas": null,
            "grid_template_columns": null,
            "grid_template_rows": null,
            "height": null,
            "justify_content": null,
            "justify_items": null,
            "left": null,
            "margin": null,
            "max_height": null,
            "max_width": null,
            "min_height": null,
            "min_width": null,
            "object_fit": null,
            "object_position": null,
            "order": null,
            "overflow": null,
            "overflow_x": null,
            "overflow_y": null,
            "padding": null,
            "right": null,
            "top": null,
            "visibility": null,
            "width": null
          }
        },
        "d48295c4cbdc4111aa551a302118f817": {
          "model_module": "@jupyter-widgets/controls",
          "model_name": "ProgressStyleModel",
          "model_module_version": "1.5.0",
          "state": {
            "_model_module": "@jupyter-widgets/controls",
            "_model_module_version": "1.5.0",
            "_model_name": "ProgressStyleModel",
            "_view_count": null,
            "_view_module": "@jupyter-widgets/base",
            "_view_module_version": "1.2.0",
            "_view_name": "StyleView",
            "bar_color": null,
            "description_width": ""
          }
        },
        "8084b0cb237a456294149b5c83e95551": {
          "model_module": "@jupyter-widgets/base",
          "model_name": "LayoutModel",
          "model_module_version": "1.2.0",
          "state": {
            "_model_module": "@jupyter-widgets/base",
            "_model_module_version": "1.2.0",
            "_model_name": "LayoutModel",
            "_view_count": null,
            "_view_module": "@jupyter-widgets/base",
            "_view_module_version": "1.2.0",
            "_view_name": "LayoutView",
            "align_content": null,
            "align_items": null,
            "align_self": null,
            "border": null,
            "bottom": null,
            "display": null,
            "flex": null,
            "flex_flow": null,
            "grid_area": null,
            "grid_auto_columns": null,
            "grid_auto_flow": null,
            "grid_auto_rows": null,
            "grid_column": null,
            "grid_gap": null,
            "grid_row": null,
            "grid_template_areas": null,
            "grid_template_columns": null,
            "grid_template_rows": null,
            "height": null,
            "justify_content": null,
            "justify_items": null,
            "left": null,
            "margin": null,
            "max_height": null,
            "max_width": null,
            "min_height": null,
            "min_width": null,
            "object_fit": null,
            "object_position": null,
            "order": null,
            "overflow": null,
            "overflow_x": null,
            "overflow_y": null,
            "padding": null,
            "right": null,
            "top": null,
            "visibility": null,
            "width": null
          }
        },
        "41c338dc2fa44c22850fb7c3555b12b7": {
          "model_module": "@jupyter-widgets/controls",
          "model_name": "DescriptionStyleModel",
          "model_module_version": "1.5.0",
          "state": {
            "_model_module": "@jupyter-widgets/controls",
            "_model_module_version": "1.5.0",
            "_model_name": "DescriptionStyleModel",
            "_view_count": null,
            "_view_module": "@jupyter-widgets/base",
            "_view_module_version": "1.2.0",
            "_view_name": "StyleView",
            "description_width": ""
          }
        }
      }
    }
  },
  "cells": [
    {
      "cell_type": "markdown",
      "source": [
        "# Prompting LLMs\n",
        "\n",
        "In this notebook, we explore:\n",
        "  - Zero-shot prompting\n",
        "  - Prompt engineering\n",
        "  - Few-shot prompting\n",
        "  - Prompting instruction-tuned models\n",
        "  - Chain-of-Thought Reasoning prompting"
      ],
      "metadata": {
        "id": "mb4Yr8KhRhbe"
      }
    },
    {
      "cell_type": "markdown",
      "source": [
        "## Dataset / Packages\n",
        "- **Run the following cells and enter your OpenAI API Key!**"
      ],
      "metadata": {
        "id": "CHrdyiQdBt2K"
      }
    },
    {
      "cell_type": "code",
      "source": [
        "%%capture\n",
        "!pip install openai datasets"
      ],
      "metadata": {
        "id": "ClLc_xNJ8Oa7"
      },
      "execution_count": null,
      "outputs": []
    },
    {
      "cell_type": "code",
      "source": [
        "from openai import OpenAI\n",
        "from time import sleep\n",
        "from datasets import load_dataset\n",
        "\n",
        "IMDB_DATASET = load_dataset(\"imdb\", split='train').shuffle(42)[0:200]\n",
        "IMDB_DATASET_X = IMDB_DATASET['text']\n",
        "IMDB_DATASET_Y = IMDB_DATASET['label']\n",
        "del IMDB_DATASET"
      ],
      "metadata": {
        "id": "3ixA0MThE9kO",
        "colab": {
          "base_uri": "https://localhost:8080/",
          "height": 365,
          "referenced_widgets": [
            "2a2927b6daee4bf887d7ae520cb6f360",
            "83303fa74c334bc39b18788f76f04bd8",
            "0b1cd3f444024d009774b6b7187223eb",
            "5784c5549ea9479588700366b1409b6e",
            "acfaf842444443a5b32de6da0600e4d6",
            "af5b35bbb0e544c48833cd904083b243",
            "af9c0471af42457e9e45a00ad94ba54b",
            "b515903b482444e4984b3a0df1f7aed5",
            "c69877d8a55841a8a2a64f42e4bf6fa1",
            "8fe3f14445074ef89fa76988df1786ee",
            "d047bcf658384ebc804393405a388fae",
            "e345cbfd8de04c0c9584b61434abad1e",
            "e4399fde0c9b4fd1830910a04f01509d",
            "57265ba9bc724724974b1cf276c9961a",
            "d19b2f7706ae402884ce2d5127f58fb0",
            "7e06679b0f0e443c93769c48cdb33de4",
            "51322bd77433464d8ac2d1563d075873",
            "935594c31a5a4e65821bf2ae62098576",
            "bc3f4b782f5448058ec9b3d61e704898",
            "fc61b157b5764dab812c6c1b5b791745",
            "2e4366425cb045fca8d001f2dd5eb4ac",
            "178da8eafe8a4cdbb0c6be0d3e936e51",
            "999a2230fe72405d83676dfe84adda0a",
            "76ae8ecf578a46a589c1a60c253d65ce",
            "e7af29b58b62439d944c92970f8e1960",
            "a63f31577e744fbc99387f7fcde189d9",
            "1cbeb00690a9483eadefa0cd38418c03",
            "9004bae8b1524f26b3a7ecd55a32a067",
            "98cd915dd77e49a4977de416ddce56bc",
            "9bfc6e1eef1d4b3b80827d6f17412b88",
            "4eb7e80ed763447798eccf35da8fedac",
            "bbd4971a9374468baf34ee4020bd8f83",
            "445e182b03eb45a891b0f38a280dc0a1",
            "4275786c7ab446909c3594da2fb83e6e",
            "020e83ae7d9b4b85bb61495bae883209",
            "6f8787285adf465bbc47652308d3838f",
            "b614d186a7e34cbe9dc6240a389e9a10",
            "25b10eff9edf4f82bb9d855782bfba06",
            "2e36daf15e9a4ecc937b94505667126b",
            "f6c7ea6d9dc34ce8a32494dda0722ce8",
            "1f886e1fe87d41d997798dd55d9c742b",
            "ff4c98c2cb904fd194ffb31d6bd74fbd",
            "5c1902d39f774c968aa68abb4b0187b2",
            "cba677b148e745b4a2ce277b2f98bdb3",
            "400338d3773c4993929f4fe918f7d966",
            "4248890ff0a340a8b7b45310a5a8abbd",
            "6ef99f72a4914ce08b6c9e814495e96f",
            "bf5c2b0e8fef4db0a5710ac718aa9735",
            "76d369c8f48f4b2da21f280f8b83cb20",
            "ebfcfe9c7ef14906a1e5b46519c19a5e",
            "0611efc21db346469fc5d3b41def514c",
            "c0f75b4f1f8c416e8d0b803cd53ea1bb",
            "bfa625310cfb4cef8776553b1abdde55",
            "2644671baaf646a1a2cd3df35733ad82",
            "4d4c7a7797de464495e6e1e1834cd5c6",
            "fc9b0cbbc30e41159533201dae924a6b",
            "448e8fecaabc42ac9129fe734f2daf36",
            "a27abcf50f3b4828affae2a756515b8b",
            "ac535addf6694d29a42356d3b6d6d2e0",
            "eb9b7d1ed3db4e3b8a6cc40b9b9ad8dd",
            "64bfb4f721f5431584e82ffbea3441cf",
            "e01d41b9d8794e9a982586940e606566",
            "6ffa083720cc459dad3f65baf3f4483d",
            "439bb32ca38c4881b0d4adca5ea61998",
            "285cbc6038814a6abf25f290e30e578f",
            "faf2481658254caf9a15809605603fad",
            "5b7b89535e5f4b569ec7482ec0fd5b8a",
            "5ec9b049c03e41e59f0a061ea962a475",
            "e021df4523cc45489b69816491f333b6",
            "b58474091f1446aca020bd5ca316955a",
            "feadb86967a24a3a9a6b479e70341dab",
            "e14c21e6e92e4c51a2205ddb4557470f",
            "a32b65696bbf4ee39e0805476a4865da",
            "a38c9954bdc3493ea4ea71ff4489dda4",
            "d48295c4cbdc4111aa551a302118f817",
            "8084b0cb237a456294149b5c83e95551",
            "41c338dc2fa44c22850fb7c3555b12b7"
          ]
        },
        "outputId": "7234d5b9-c415-4eab-ea56-fd52e7ea5fcb"
      },
      "execution_count": null,
      "outputs": [
        {
          "output_type": "stream",
          "name": "stderr",
          "text": [
            "/usr/local/lib/python3.11/dist-packages/huggingface_hub/utils/_auth.py:94: UserWarning: \n",
            "The secret `HF_TOKEN` does not exist in your Colab secrets.\n",
            "To authenticate with the Hugging Face Hub, create a token in your settings tab (https://huggingface.co/settings/tokens), set it as secret in your Google Colab and restart your session.\n",
            "You will be able to reuse this secret in all of your notebooks.\n",
            "Please note that authentication is recommended but still optional to access public models or datasets.\n",
            "  warnings.warn(\n"
          ]
        },
        {
          "output_type": "display_data",
          "data": {
            "text/plain": [
              "README.md:   0%|          | 0.00/7.81k [00:00<?, ?B/s]"
            ],
            "application/vnd.jupyter.widget-view+json": {
              "version_major": 2,
              "version_minor": 0,
              "model_id": "2a2927b6daee4bf887d7ae520cb6f360"
            }
          },
          "metadata": {}
        },
        {
          "output_type": "display_data",
          "data": {
            "text/plain": [
              "train-00000-of-00001.parquet:   0%|          | 0.00/21.0M [00:00<?, ?B/s]"
            ],
            "application/vnd.jupyter.widget-view+json": {
              "version_major": 2,
              "version_minor": 0,
              "model_id": "e345cbfd8de04c0c9584b61434abad1e"
            }
          },
          "metadata": {}
        },
        {
          "output_type": "display_data",
          "data": {
            "text/plain": [
              "test-00000-of-00001.parquet:   0%|          | 0.00/20.5M [00:00<?, ?B/s]"
            ],
            "application/vnd.jupyter.widget-view+json": {
              "version_major": 2,
              "version_minor": 0,
              "model_id": "999a2230fe72405d83676dfe84adda0a"
            }
          },
          "metadata": {}
        },
        {
          "output_type": "display_data",
          "data": {
            "text/plain": [
              "unsupervised-00000-of-00001.parquet:   0%|          | 0.00/42.0M [00:00<?, ?B/s]"
            ],
            "application/vnd.jupyter.widget-view+json": {
              "version_major": 2,
              "version_minor": 0,
              "model_id": "4275786c7ab446909c3594da2fb83e6e"
            }
          },
          "metadata": {}
        },
        {
          "output_type": "display_data",
          "data": {
            "text/plain": [
              "Generating train split:   0%|          | 0/25000 [00:00<?, ? examples/s]"
            ],
            "application/vnd.jupyter.widget-view+json": {
              "version_major": 2,
              "version_minor": 0,
              "model_id": "400338d3773c4993929f4fe918f7d966"
            }
          },
          "metadata": {}
        },
        {
          "output_type": "display_data",
          "data": {
            "text/plain": [
              "Generating test split:   0%|          | 0/25000 [00:00<?, ? examples/s]"
            ],
            "application/vnd.jupyter.widget-view+json": {
              "version_major": 2,
              "version_minor": 0,
              "model_id": "fc9b0cbbc30e41159533201dae924a6b"
            }
          },
          "metadata": {}
        },
        {
          "output_type": "display_data",
          "data": {
            "text/plain": [
              "Generating unsupervised split:   0%|          | 0/50000 [00:00<?, ? examples/s]"
            ],
            "application/vnd.jupyter.widget-view+json": {
              "version_major": 2,
              "version_minor": 0,
              "model_id": "5b7b89535e5f4b569ec7482ec0fd5b8a"
            }
          },
          "metadata": {}
        }
      ]
    },
    {
      "cell_type": "code",
      "source": [
        "from getpass import getpass\n",
        "import os\n",
        "\n",
        "print('Enter OpenAI API key:')\n",
        "openai_api_key = getpass()\n",
        "\n",
        "os.environ['OPENAI_API_KEY']=openai_api_key\n",
        "client = OpenAI()"
      ],
      "metadata": {
        "id": "xZQdIqijE9U1",
        "colab": {
          "base_uri": "https://localhost:8080/"
        },
        "outputId": "cb83db21-9dd5-4ebe-9bd5-6242e8f38db1"
      },
      "execution_count": null,
      "outputs": [
        {
          "name": "stdout",
          "output_type": "stream",
          "text": [
            "Enter OpenAI API key:\n",
            "··········\n"
          ]
        }
      ]
    },
    {
      "cell_type": "code",
      "source": [
        "OPENAI_API_KEY = openai_api_key"
      ],
      "metadata": {
        "id": "SSu2-9ZKGblj"
      },
      "execution_count": null,
      "outputs": []
    },
    {
      "cell_type": "code",
      "source": [
        "import openai\n",
        "\n",
        "cache = {}\n",
        "def run_gpt3(prompt, return_first_line = True, instruction_tuned = False):\n",
        "    # Return the response from the cache if we have already run this\n",
        "    cache_key = (prompt, return_first_line, instruction_tuned)\n",
        "    if cache_key in cache:\n",
        "        return cache[cache_key]\n",
        "\n",
        "    response = \"\"\n",
        "\n",
        "    # Select the model\n",
        "    if instruction_tuned:\n",
        "        model = \"gpt-3.5-turbo-instruct\"\n",
        "    else:\n",
        "        # You may also use \"davinci-002\"\n",
        "        model = \"babbage-002\"\n",
        "\n",
        "    # Send the prompt to GPT-3\n",
        "    for i in range(0,60,6):\n",
        "        try:\n",
        "            response = client.completions.create(\n",
        "                model=model,\n",
        "                prompt=prompt,\n",
        "                temperature=0,\n",
        "                max_tokens=100,\n",
        "                top_p=1,\n",
        "                frequency_penalty=0.0,\n",
        "                presence_penalty=0.0,\n",
        "            ).choices[0].text.strip()\n",
        "            break\n",
        "        except openai.RateLimitError as e:\n",
        "            print(e)\n",
        "            sleep(i)\n",
        "\n",
        "        except Exception as e:\n",
        "            print(e)\n",
        "            break\n",
        "\n",
        "    # Parse the response\n",
        "    if return_first_line:\n",
        "        final_response = response.split('\\n')[0]\n",
        "    else:\n",
        "        final_response = response\n",
        "\n",
        "    # Cache and return the response\n",
        "    cache[cache_key] = final_response\n",
        "    return final_response"
      ],
      "metadata": {
        "id": "lNBeJLVcSusU"
      },
      "execution_count": null,
      "outputs": []
    },
    {
      "cell_type": "markdown",
      "source": [
        "# Section 1: Exploring Prompting\n",
        "**Background:** Prompting is a way to guide a language model, which is ultimately just a model that predicts the most likely next sequence of words, to complete some arbitrary task you want it to complete.\n",
        "\n",
        "A language model will \"complete\" your prompt with what words are most likely to come next. We demonstrate this is the case by showing how GPT-3 completes movie quotes, when giving it the beginning of the quote:"
      ],
      "metadata": {
        "id": "PGlvLsC9B-gI"
      }
    },
    {
      "cell_type": "code",
      "source": [
        "print(run_gpt3(\"Life is like a box of chocolates,\"))\n",
        "print(run_gpt3(\"With great power,\"))\n",
        "print(run_gpt3(\"The name's Bond.\"))\n",
        "print(run_gpt3(\"Houston, we\"))\n",
        "print(run_gpt3(\"I've a feeling we're not in\"))"
      ],
      "metadata": {
        "id": "YcILHclcou0L",
        "colab": {
          "base_uri": "https://localhost:8080/"
        },
        "outputId": "896331fc-068e-42a8-abd9-9ddf47d5b1ca"
      },
      "execution_count": null,
      "outputs": [
        {
          "output_type": "stream",
          "name": "stdout",
          "text": [
            "you never know what you're gonna get. (laughing)\n",
            "comes great responsibility. The same goes for the power of the internet. The internet is a powerful tool, but it can also be a dangerous tool. The internet is a powerful tool, but it can also be a dangerous tool. The internet is a powerful tool, but it can also be a dangerous tool. The internet is a powerful tool, but it can also be a dangerous tool. The internet is a powerful tool, but it can also be a dangerous tool. The internet is a powerful tool\n",
            "James Bond. James Bond. James Bond. James Bond. James Bond. James Bond. James Bond. James Bond. James Bond. James Bond. James Bond. James Bond. James Bond. James Bond. James Bond. James Bond. James Bond. James Bond. James Bond. James Bond. James Bond. James Bond. James Bond. James Bond. James Bond. James Bond. James Bond. James Bond. James Bond. James Bond. James Bond. James Bond. James Bond. James\n",
            "have a problem.\n",
            "Kansas anymore.\n"
          ]
        }
      ]
    },
    {
      "cell_type": "markdown",
      "source": [
        "Now imagine we give a prompt like this:"
      ],
      "metadata": {
        "id": "RJKLr2kjatM3"
      }
    },
    {
      "cell_type": "code",
      "source": [
        "print(run_gpt3(\"Question: Who was the first president of the United States? Answer:\"))"
      ],
      "metadata": {
        "id": "L-XKt2tpZzi7",
        "colab": {
          "base_uri": "https://localhost:8080/"
        },
        "outputId": "14a175c2-7775-47c3-a1b6-d33dd1c5d425"
      },
      "execution_count": null,
      "outputs": [
        {
          "output_type": "stream",
          "name": "stdout",
          "text": [
            "George Washington. The first president of the United States was George Washington. He was the first president of the United States. He was the first president of the United States. He was the first president of the United States. He was the first president of the United States. He was the first president of the United States. He was the first president of the United States. He was the first president of the United States. He was the first president of the United States. He was the first president of\n"
          ]
        }
      ]
    },
    {
      "cell_type": "markdown",
      "source": [
        "By posing a question and writing \"Answer:\" at the end, we make it such that the most likely next sequence of words is the answer to the question! This is the key to large language models being able to perform arbitrary tasks, even though they are only trained to predict the next word.\n",
        "\n",
        "We can parameterize this prompt and make it reusable for different questions:"
      ],
      "metadata": {
        "id": "Q41x7bVXbLY-"
      }
    },
    {
      "cell_type": "code",
      "source": [
        "QA_PROMPT = \"Question: {input} Answer:\"\n",
        "print(run_gpt3(QA_PROMPT.replace(\"{input}\", \"What company did Steve Jobs found?\")))\n",
        "# print(run_gpt3(QA_PROMPT.replace(\"{input}\", \"What's the movie with Tom Cruise about fighter jets?\")))\n",
        "# print(run_gpt3(QA_PROMPT.replace(\"{input}\", \"Are tomatoes a fruit or a vegetable?\")))"
      ],
      "metadata": {
        "id": "YeHF3-OPZ601",
        "colab": {
          "base_uri": "https://localhost:8080/"
        },
        "outputId": "a414b47b-ee3c-42a2-ef0e-e49bd3bc87c9"
      },
      "execution_count": null,
      "outputs": [
        {
          "output_type": "stream",
          "name": "stdout",
          "text": [
            "Apple Inc. Steve Jobs founded Apple in 1976. He was the CEO of Apple for 12 years. He was the CEO of Apple for 12 years. He was the CEO of Apple for 12 years. He was the CEO of Apple for 12 years. He was the CEO of Apple for 12 years. He was the CEO of Apple for 12 years. He was the CEO of Apple for 12 years. He was the CEO of Apple for 12 years.\n"
          ]
        }
      ]
    },
    {
      "cell_type": "markdown",
      "source": [
        "Prompt that returns the capital of country."
      ],
      "metadata": {
        "id": "TUnnuRJfbXf5"
      }
    },
    {
      "cell_type": "code",
      "source": [
        "CAPITAL_OF_COUNTRY_PROMPT = \"Country: {input} Capital:\""
      ],
      "metadata": {
        "id": "hVUR92UPbSkn"
      },
      "execution_count": null,
      "outputs": []
    },
    {
      "cell_type": "markdown",
      "source": [
        "Prompt that given a word, returns a list of synonyms."
      ],
      "metadata": {
        "id": "cjol744PbwIl"
      }
    },
    {
      "cell_type": "code",
      "source": [
        "SYNONYMS_OF_WORD_PROMPT = \"Word: {input} Synonyms: \"\n",
        "# print(run_gpt3(SYNONYMS_OF_WORD_PROMPT.replace(\"{input}\", \"bug\"), return_first_line=False))"
      ],
      "metadata": {
        "id": "guWIM6eLb2jA"
      },
      "execution_count": null,
      "outputs": []
    },
    {
      "cell_type": "markdown",
      "source": [
        "Prompt Engineering\n",
        "\n",
        "---\n",
        "\n",
        "The prompts up to this point have been fairly basic and straightforward to create. But what if you have a more difficult task and it seems like your prompt isn't working? *Prompt engineering* is the procecss of iterating on a prompt in clever ways to induce the model to produce what you want. The best way of prompt engineering systematically vs. randomly is by understanding how the underlying model was trained and what data it was trained on to best prompt the model.\n",
        "\n",
        "Imagine we want the model to generate a quote in Donald Trump's style of talking about a certain topic:"
      ],
      "metadata": {
        "id": "jpJIgznD_mw4"
      }
    },
    {
      "cell_type": "code",
      "source": [
        "DONALD_TRUMP_PROMPT = \"Question: What would Donald Trump say about {input}? Answer:\"\n",
        "DONALD_TRUMP_PROMPT_ENGINEERED_1 = 'On the topic of {input}, Donald Trump was quoted as saying \"'\n",
        "DONALD_TRUMP_PROMPT_ENGINEERED_2 = 'On the topic of {input}, Donald Trump expressed optimism saying \"'\n",
        "DONALD_TRUMP_PROMPT_ENGINEERED_3 = 'On the topic of {input}, Donald Trump expressed doubt saying \"'\n",
        "\n",
        "print(run_gpt3(DONALD_TRUMP_PROMPT.replace(\"{input}\", 'the stock market'))) # Doesn't work\n",
        "print(run_gpt3(DONALD_TRUMP_PROMPT_ENGINEERED_1.replace(\"{input}\", 'the stock market'))) # Works!\n",
        "# print(run_gpt3(DONALD_TRUMP_PROMPT_ENGINEERED_2.replace(\"{input}\", 'the stock market'))) # Works!\n",
        "# print(run_gpt3(DONALD_TRUMP_PROMPT_ENGINEERED_3.replace(\"{input}\", 'the stock market'))) # Works!"
      ],
      "metadata": {
        "id": "AwBHGjCc6fdu",
        "colab": {
          "base_uri": "https://localhost:8080/"
        },
        "outputId": "018804b7-a0ac-4bf8-9f5e-fae2f3ecb670"
      },
      "execution_count": null,
      "outputs": [
        {
          "output_type": "stream",
          "name": "stdout",
          "text": [
            "He would say it’s a “great time to buy.”\n",
            "I'm not a big fan of the stock market. I think it's rigged. I think it's rigged. I think it's rigged. I think it's rigged. I think it's rigged. I think it's rigged. I think it's rigged. I think it's rigged. I think it's rigged. I think it's rigged. I think it's rigged. I think it's rigged. I think it's rigged. I think it's rigged. I think it's rigged\n"
          ]
        }
      ]
    },
    {
      "cell_type": "markdown",
      "source": [
        "The first naive prompt doesn't really work. After prompt engineering, not only do we get a much more realistic generation of his style, but we can also control whether he is talking about the topic positively or negatively.\n",
        "\n",
        "The engineered prompt, 'On the topic of {input}, Donald Trump was quoted as saying \"', worked much better than the original \"Question: What would Donald Trump say about {input}? Answer:\" prompt because it is probably more similarly structured to how news was reported or how articles were written on the internet, which is what the underlying model was trained on. By prompting the model to complete a sentence with “Donald Trump was quotes as saying” with an open quotation, it induces the model to generate something in the style of an actual quote said by Trump."
      ],
      "metadata": {
        "id": "1PhkpaGlCVPf"
      }
    },
    {
      "cell_type": "markdown",
      "source": [
        "A prompt that is well-engineered can effectively solve difficult NLP tasks that previously were solved by fine-tuning models.\n",
        "\n",
        "Next, we will solve the [sentiment classification task](https://en.wikipedia.org/wiki/Sentiment_analysis), and classify [movie reviews](https://ai.stanford.edu/~amaas/data/sentiment/) as *positive* or *negative*. `IMDB_DATASET_X` and `IMDB_DATASET_Y` contain 200 reviews and sentiment labels (1 = positive, 0 = negative)."
      ],
      "metadata": {
        "id": "aEkQ_gUOTPOT"
      }
    },
    {
      "cell_type": "code",
      "source": [
        "MOVIE_SENTIMENT_PROMPT = \"{input}. If I had to pick between 'good' or 'bad' I would say this movie is\"\n",
        "\n",
        "POSITIVE_VERBALIZERS = [\n",
        "    \"good\",\n",
        "    \"fantastic\",\n",
        "    \"great\",\n",
        "    \"awesome\",\n",
        "    \"terrific\",\n",
        "    \"like\",\n",
        "    \"better\",\n",
        "    \"enjoy\"\n",
        "]\n",
        "NEGATIVE_VERBALIZERS = [\n",
        "    \"bad\",\n",
        "    \"boring\",\n",
        "    \"terrible\",\n",
        "    \"disappointed\",\n",
        "    \"awful\",\n",
        "    \"hate\",\n",
        "    \"worse\",\n",
        "    \"poor\"\n",
        "]\n",
        "\n",
        "def map_to_sentiment_label(gpt3_output):\n",
        "    for v in POSITIVE_VERBALIZERS:\n",
        "        if v.lower() in gpt3_output[:20].lower():\n",
        "            return 1\n",
        "    for v in NEGATIVE_VERBALIZERS:\n",
        "        if v.lower() in gpt3_output[:20].lower():\n",
        "            return 0\n",
        "    return None\n",
        "\n",
        "correct = 0\n",
        "for review, label in zip(IMDB_DATASET_X, IMDB_DATASET_Y):\n",
        "    gpt3_output = run_gpt3(MOVIE_SENTIMENT_PROMPT.replace(\"{input}\", review))\n",
        "    prediction = map_to_sentiment_label(gpt3_output)\n",
        "    if prediction == label:\n",
        "        correct += 1\n",
        "    print(f\"Prediction: {prediction}, Label: {label}\")\n",
        "print(f\"Correct: {correct}/200\")"
      ],
      "metadata": {
        "id": "FivGbeAmVOK7",
        "colab": {
          "base_uri": "https://localhost:8080/"
        },
        "outputId": "476398f2-fc48-4a34-aef8-edcd629b16b6"
      },
      "execution_count": null,
      "outputs": [
        {
          "output_type": "stream",
          "name": "stdout",
          "text": [
            "Prediction: 1, Label: 1\n",
            "Prediction: 1, Label: 1\n",
            "Prediction: 1, Label: 0\n",
            "Prediction: 0, Label: 1\n",
            "Prediction: 0, Label: 0\n",
            "Prediction: 1, Label: 1\n",
            "Prediction: 0, Label: 1\n",
            "Prediction: 0, Label: 0\n",
            "Prediction: 0, Label: 0\n",
            "Prediction: 1, Label: 1\n",
            "Prediction: 1, Label: 1\n",
            "Prediction: 0, Label: 0\n",
            "Prediction: 0, Label: 0\n",
            "Prediction: 0, Label: 0\n",
            "Prediction: 1, Label: 1\n",
            "Prediction: 1, Label: 1\n",
            "Prediction: 0, Label: 0\n",
            "Prediction: 0, Label: 0\n",
            "Prediction: 1, Label: 1\n",
            "Prediction: 1, Label: 1\n",
            "Prediction: 0, Label: 0\n",
            "Prediction: 1, Label: 0\n",
            "Prediction: 0, Label: 0\n",
            "Prediction: 1, Label: 1\n",
            "Prediction: 0, Label: 0\n",
            "Prediction: 0, Label: 1\n",
            "Prediction: 0, Label: 0\n",
            "Prediction: 1, Label: 1\n",
            "Prediction: 1, Label: 1\n",
            "Prediction: 0, Label: 1\n",
            "Prediction: 0, Label: 0\n",
            "Prediction: 0, Label: 0\n",
            "Prediction: 0, Label: 1\n",
            "Prediction: 0, Label: 0\n",
            "Prediction: 0, Label: 0\n",
            "Prediction: 1, Label: 1\n",
            "Prediction: 0, Label: 0\n",
            "Prediction: 0, Label: 0\n",
            "Prediction: 0, Label: 0\n",
            "Prediction: 0, Label: 0\n",
            "Prediction: 0, Label: 0\n",
            "Prediction: 0, Label: 0\n",
            "Prediction: 0, Label: 0\n",
            "Prediction: 0, Label: 0\n",
            "Prediction: 0, Label: 0\n",
            "Prediction: 1, Label: 1\n",
            "Prediction: 1, Label: 1\n",
            "Prediction: 1, Label: 1\n",
            "Prediction: 1, Label: 1\n",
            "Prediction: 0, Label: 0\n",
            "Prediction: 1, Label: 1\n",
            "Prediction: 1, Label: 1\n",
            "Prediction: 0, Label: 0\n",
            "Prediction: 1, Label: 1\n",
            "Prediction: 1, Label: 1\n",
            "Prediction: 1, Label: 1\n",
            "Prediction: 0, Label: 0\n",
            "Prediction: 1, Label: 1\n",
            "Prediction: 1, Label: 1\n",
            "Prediction: 1, Label: 1\n",
            "Prediction: 0, Label: 0\n",
            "Prediction: 0, Label: 0\n",
            "Prediction: 0, Label: 0\n",
            "Prediction: 0, Label: 0\n",
            "Prediction: 1, Label: 1\n",
            "Prediction: 0, Label: 0\n",
            "Prediction: 0, Label: 0\n",
            "Prediction: 1, Label: 1\n",
            "Prediction: 1, Label: 1\n",
            "Prediction: 0, Label: 0\n",
            "Prediction: 0, Label: 0\n",
            "Prediction: 0, Label: 0\n",
            "Prediction: 0, Label: 0\n",
            "Prediction: 1, Label: 1\n",
            "Prediction: 0, Label: 0\n",
            "Prediction: 0, Label: 0\n",
            "Prediction: 0, Label: 0\n",
            "Prediction: 0, Label: 1\n",
            "Prediction: 0, Label: 0\n",
            "Prediction: 1, Label: 1\n",
            "Prediction: 0, Label: 0\n",
            "Prediction: 1, Label: 1\n",
            "Prediction: 0, Label: 0\n",
            "Prediction: 1, Label: 1\n",
            "Prediction: 1, Label: 1\n",
            "Prediction: 0, Label: 1\n",
            "Prediction: 1, Label: 1\n",
            "Prediction: 1, Label: 0\n",
            "Prediction: 0, Label: 1\n",
            "Prediction: 1, Label: 1\n",
            "Prediction: 0, Label: 0\n",
            "Prediction: 1, Label: 1\n",
            "Prediction: 0, Label: 0\n",
            "Prediction: 1, Label: 1\n",
            "Prediction: 0, Label: 0\n",
            "Prediction: 0, Label: 0\n",
            "Prediction: 0, Label: 0\n",
            "Prediction: 0, Label: 0\n",
            "Prediction: 1, Label: 1\n",
            "Prediction: 0, Label: 1\n",
            "Prediction: 0, Label: 0\n",
            "Prediction: 0, Label: 0\n",
            "Prediction: 0, Label: 0\n",
            "Prediction: 1, Label: 1\n",
            "Prediction: 0, Label: 1\n",
            "Prediction: 1, Label: 0\n",
            "Prediction: 0, Label: 0\n",
            "Prediction: 0, Label: 0\n",
            "Prediction: 0, Label: 0\n",
            "Prediction: 0, Label: 0\n",
            "Prediction: 1, Label: 1\n",
            "Prediction: 1, Label: 1\n",
            "Prediction: 1, Label: 1\n",
            "Prediction: 1, Label: 1\n",
            "Prediction: 0, Label: 0\n",
            "Prediction: 1, Label: 1\n",
            "Prediction: 1, Label: 1\n",
            "Prediction: 0, Label: 0\n",
            "Prediction: 1, Label: 1\n",
            "Prediction: 1, Label: 1\n",
            "Prediction: 0, Label: 0\n",
            "Prediction: 0, Label: 0\n",
            "Prediction: 0, Label: 0\n",
            "Prediction: 1, Label: 1\n",
            "Prediction: 1, Label: 1\n",
            "Prediction: 0, Label: 1\n",
            "Prediction: 0, Label: 0\n",
            "Prediction: 1, Label: 1\n",
            "Prediction: 0, Label: 0\n",
            "Prediction: 1, Label: 1\n",
            "Prediction: 0, Label: 0\n",
            "Prediction: 0, Label: 0\n",
            "Prediction: 0, Label: 0\n",
            "Prediction: 1, Label: 1\n",
            "Prediction: 1, Label: 1\n",
            "Prediction: 1, Label: 1\n",
            "Prediction: 0, Label: 0\n",
            "Prediction: 0, Label: 0\n",
            "Prediction: 1, Label: 1\n",
            "Prediction: 1, Label: 1\n",
            "Prediction: 0, Label: 0\n",
            "Prediction: 1, Label: 1\n",
            "Prediction: 1, Label: 1\n",
            "Prediction: 0, Label: 0\n",
            "Prediction: 1, Label: 1\n",
            "Prediction: 0, Label: 0\n",
            "Prediction: 0, Label: 0\n",
            "Prediction: 0, Label: 0\n",
            "Prediction: 1, Label: 1\n",
            "Prediction: 0, Label: 0\n",
            "Prediction: 0, Label: 0\n",
            "Prediction: 0, Label: 0\n",
            "Prediction: 0, Label: 0\n",
            "Prediction: 1, Label: 1\n",
            "Prediction: 0, Label: 0\n",
            "Prediction: 0, Label: 0\n",
            "Prediction: 1, Label: 1\n",
            "Prediction: 1, Label: 1\n",
            "Prediction: 1, Label: 1\n",
            "Prediction: 0, Label: 0\n",
            "Prediction: 0, Label: 0\n",
            "Prediction: 1, Label: 1\n",
            "Prediction: 0, Label: 0\n",
            "Prediction: 0, Label: 0\n",
            "Prediction: None, Label: 0\n",
            "Prediction: 1, Label: 1\n",
            "Prediction: 1, Label: 1\n",
            "Prediction: 0, Label: 0\n",
            "Prediction: 0, Label: 0\n",
            "Prediction: 0, Label: 0\n",
            "Prediction: 1, Label: 1\n",
            "Prediction: 0, Label: 1\n",
            "Prediction: 0, Label: 0\n",
            "Prediction: 0, Label: 0\n",
            "Prediction: 0, Label: 0\n",
            "Prediction: 1, Label: 0\n",
            "Prediction: 1, Label: 1\n",
            "Prediction: 1, Label: 1\n",
            "Prediction: 1, Label: 1\n",
            "Prediction: 1, Label: 1\n",
            "Prediction: 1, Label: 1\n",
            "Prediction: 0, Label: 1\n",
            "Prediction: 1, Label: 1\n",
            "Prediction: 0, Label: 0\n",
            "Prediction: 0, Label: 0\n",
            "Prediction: 0, Label: 1\n",
            "Prediction: 0, Label: 0\n",
            "Prediction: 0, Label: 0\n",
            "Prediction: 1, Label: 1\n",
            "Prediction: 0, Label: 0\n",
            "Prediction: 1, Label: 1\n",
            "Prediction: 0, Label: 0\n",
            "Prediction: 0, Label: 0\n",
            "Prediction: 1, Label: 1\n",
            "Prediction: 0, Label: 1\n",
            "Prediction: 0, Label: 1\n",
            "Prediction: 0, Label: 0\n",
            "Prediction: 1, Label: 1\n",
            "Prediction: 1, Label: 1\n",
            "Prediction: 1, Label: 1\n",
            "Correct: 178/200\n"
          ]
        }
      ]
    },
    {
      "cell_type": "markdown",
      "source": [
        "# Few-Shot Prompting\n",
        "\n",
        "The prompts you have seen up until this point are zero-shot prompts, in that we are asking the model to complete a task without any examples. By providing some examples in the prompt, the model becomes significantly more capable. We'll show an example."
      ],
      "metadata": {
        "id": "gsi2i4y64kvP"
      }
    },
    {
      "cell_type": "code",
      "source": [
        "ZERO_SHOT_COMPLEX_PROMPT = \"Question: What is a more complex word for {input}? Answer:\"\n",
        "FEW_SHOT_COMPLEX_PROMPT = \"angry : aggrieved\\nsad : depressed\\n{input} :\"\n",
        "\n",
        "print(run_gpt3(ZERO_SHOT_COMPLEX_PROMPT.replace(\"{input}\", 'confused'))) # Doesn't work\n",
        "print(run_gpt3(FEW_SHOT_COMPLEX_PROMPT.replace(\"{input}\", 'confused'))) # Works!"
      ],
      "metadata": {
        "id": "RZs-_4-S_vww",
        "colab": {
          "base_uri": "https://localhost:8080/"
        },
        "outputId": "b5b59064-7d31-45b5-b7cc-bb2e5d10d280"
      },
      "execution_count": null,
      "outputs": [
        {
          "output_type": "stream",
          "name": "stdout",
          "text": [
            "Confused. Confused is a word that is used to describe a person who is confused. Confused is a word that is used to describe a person who is confused. Confused is a word that is used to describe a person who is confused. Confused is a word that is used to describe a person who is confused. Confused is a word that is used to describe a person who is confused. Confused is a word that is used to describe a person who is confused. Conf\n",
            "bewildered\n"
          ]
        }
      ]
    },
    {
      "cell_type": "markdown",
      "source": [
        "The first zero-shot prompt where we have no example doesn't work at all, where as when we give 2 examples in the few-shot prompt (2-shot prompt), it works.\n",
        "\n",
        "Few-shot prompt that translates a Korean word to an English word."
      ],
      "metadata": {
        "id": "yotgY6JWHCRL"
      }
    },
    {
      "cell_type": "code",
      "source": [
        "KOREAN_TO_ENGLISH_PROMPT = \"안녕하세요: hello \\n감사해요: thanks \\n{input}: \""
      ],
      "metadata": {
        "id": "lEf2PB9WHSus"
      },
      "execution_count": null,
      "outputs": []
    },
    {
      "cell_type": "markdown",
      "source": [
        "Few-shot prompt that converts an input into a [Jeopardy! style answer](https://en.wikipedia.org/wiki/Jeopardy!#:~:text=Rather%20than%20being%20given%20questions,the%20form%20of%20a%20question.) (The Great Lakes -> \"What are the Great Lakes?\" or Taylor Swift -> \"Who is Taylor Swift?\")"
      ],
      "metadata": {
        "id": "afOSMXJ7U-ty"
      }
    },
    {
      "cell_type": "code",
      "source": [
        "TO_JEOPARDY_ANSWER_PROMPT = \"The Great Lakes: What are the Great Lakes? \\nTaylor Swift: Who is Taylor Swift? \\n{input}:\""
      ],
      "metadata": {
        "id": "iPxTwMR8V92B"
      },
      "execution_count": null,
      "outputs": []
    },
    {
      "cell_type": "markdown",
      "source": [
        "Here are 3 more arbitrary tasks, where a zero-shot prompt might not suffice, and a few-shot prompt would be required."
      ],
      "metadata": {
        "id": "ZykJv03wYrb8"
      }
    },
    {
      "cell_type": "code",
      "source": [
        "# Few shot:\n",
        "USERNAME_GENERATOR = \"Barack Obama: bobama \\nMary Smith: msmith \\n{input}:\"\n",
        "\n",
        "# Zero-shot:\n",
        "USERNAME_GENERATOR_0 = \"Make a username that is the person's first initial then last name. Full name: {input}\"\n",
        "\n",
        "print(\"Zero-shot:\", run_gpt3(USERNAME_GENERATOR_0.replace(\"{input}\", 'John Doe')))\n",
        "print(\"Few-shot:\", run_gpt3(USERNAME_GENERATOR.replace(\"{input}\", 'John Doe')))"
      ],
      "metadata": {
        "colab": {
          "base_uri": "https://localhost:8080/"
        },
        "id": "DY7xLW9oMZNI",
        "outputId": "65a2931f-2a84-475b-90de-2ef24515c5eb"
      },
      "execution_count": null,
      "outputs": [
        {
          "output_type": "stream",
          "name": "stdout",
          "text": [
            "Zero-shot: . Example: John Doe 1234. If you want to use a nickname, use the first initial of the person's last name and the last initial of the person's first name. Example: John Doe 1234. If you want to use a nickname, use the first initial of the person's last name and the last initial of the person's first name. Example: John Doe 1234. If you want to use a nickname, use the first initial of the person's last\n",
            "Few-shot: jdoe \n"
          ]
        }
      ]
    },
    {
      "cell_type": "code",
      "source": [
        "# Few shot:\n",
        "SCIENTIFIC_NAME_PROMPT = \"human: Homo sapien \\ncat: Felis catus \\n{input}:\"\n",
        "\n",
        "# Zero-shot:\n",
        "SCIENTIFIC_NAME_PROMPT_0 = \"What is the scientific name for a {input}?\"\n",
        "\n",
        "print(\"Zero-shot:\", run_gpt3(SCIENTIFIC_NAME_PROMPT_0.replace(\"{input}\", 'dog')))\n",
        "print(\"Few-shot:\", run_gpt3(SCIENTIFIC_NAME_PROMPT.replace(\"{input}\", 'dog')))"
      ],
      "metadata": {
        "colab": {
          "base_uri": "https://localhost:8080/"
        },
        "id": "Zty6m7p6PCqi",
        "outputId": "560f7dd5-8c9d-4672-c743-7038ca187ea1"
      },
      "execution_count": null,
      "outputs": [
        {
          "output_type": "stream",
          "name": "stdout",
          "text": [
            "Zero-shot: - How to deal with a nosy fellow graduate student? \n",
            "Few-shot: Canis lupus familiaris \n"
          ]
        }
      ]
    },
    {
      "cell_type": "code",
      "source": [
        "# Few shot:\n",
        "JERSEY_NUMBER_PROMPT = \"Stephen Curry: #30 \\nLuka Doncic: #77 \\n{input}:\"\n",
        "\n",
        "# Zero-shot:\n",
        "JERSEY_NUMBER_PROMPT_0 = \"What jersey number does {input} play in?\"\n",
        "\n",
        "print(\"Zero-shot:\", run_gpt3(JERSEY_NUMBER_PROMPT_0.replace(\"{input}\", 'Michael Jordan')))\n",
        "print(\"Few-shot:\", run_gpt3(JERSEY_NUMBER_PROMPT.replace(\"{input}\", 'Michael Jordan')))"
      ],
      "metadata": {
        "colab": {
          "base_uri": "https://localhost:8080/"
        },
        "id": "ucGWTcpAQl_v",
        "outputId": "28010085-d270-45f8-ada8-43a88488f592"
      },
      "execution_count": null,
      "outputs": [
        {
          "output_type": "stream",
          "name": "stdout",
          "text": [
            "Zero-shot: Jordan played 3, 4, 5, 6, 7, 8, 9, 10, 11, 12, 13, 14, 15, 16, 17, 18, 19, 20, 21, 22, 23, 24, 25, 26, 27, 28, 29, 30, 31, 32, 33, 34, 35\n",
            "Few-shot: #23 \n"
          ]
        }
      ]
    },
    {
      "cell_type": "markdown",
      "source": [
        "# Prompting Instruction-Tuned Models\n",
        "\n",
        "Large language models can be *instruction-tuned*, fine-tuned with examples of instructions and responses to those instructions, to make them easier to prompt and friendlier to humans. Instruction-tuned models can more easily be given natural langauge instructions describing a task you want them to complete. This makes it so that they are more performant without requiring as much prompt engineering and makes them more likely to succeed with just zero-shot prompting. The version of GPT-3 we were working with in previous exercises was not instruction-tuned, we now will use instruction-tuned models from here on out:"
      ],
      "metadata": {
        "id": "xfGRGgLCc38j"
      }
    },
    {
      "cell_type": "code",
      "source": [
        "TO_JEOPARDY_INSTRUCTION_PROMPT = \"What would a Jeopardy! contestant say if the answer was \\\"{input}\\\"?\"\n",
        "\n",
        "print(run_gpt3(TO_JEOPARDY_INSTRUCTION_PROMPT.replace(\"{input}\", 'Taylor Swift'))) # Doesn't work on non-instruction tuned model\n",
        "print(run_gpt3(TO_JEOPARDY_INSTRUCTION_PROMPT.replace(\"{input}\", 'Taylor Swift'), instruction_tuned=True)) # Works and is simpler!"
      ],
      "metadata": {
        "id": "HC0Rc41Hdikw"
      },
      "execution_count": null,
      "outputs": []
    },
    {
      "cell_type": "markdown",
      "source": [
        "As you can see, these instruction-tuned models make it much simpler to complete complex tasks since you can \"talk\" to them naturally.\n",
        "\n",
        "Prompt that returns the Spanish word given an English word (painting -> pintura)."
      ],
      "metadata": {
        "id": "zl-njdLbg6Hr"
      }
    },
    {
      "cell_type": "code",
      "source": [
        "ENGLISH_TO_SPANISH_PROMPT = \"Can you translate the English word {input} into Spanish?\"\n",
        "\n",
        "print(run_gpt3(ENGLISH_TO_SPANISH_PROMPT.replace(\"{input}\", 'painting'), instruction_tuned=True))"
      ],
      "metadata": {
        "id": "CoU6zfxps06_",
        "colab": {
          "base_uri": "https://localhost:8080/"
        },
        "outputId": "4d06ee5d-2933-483a-c221-b95bb13183fd"
      },
      "execution_count": 2,
      "outputs": [
        {
          "output_type": "stream",
          "name": "stdout",
          "text": [
            "pintura\n"
          ]
        }
      ]
    },
    {
      "cell_type": "markdown",
      "source": [
        "Here are 3 more arbitrary tasks, where the non-instruction-tuned model might not suffice, and an instruction-tuned model would be required."
      ],
      "metadata": {
        "id": "SSvhJyZUqNyz"
      }
    },
    {
      "cell_type": "code",
      "source": [
        "CHAMPIONSHIP_TEAM_PROMPT = \"Which team has {input} won Championships with?\"\n",
        "print(run_gpt3(CHAMPIONSHIP_TEAM_PROMPT.replace(\"{input}\", 'LeBron James')))\n",
        "print(run_gpt3(CHAMPIONSHIP_TEAM_PROMPT.replace(\"{input}\", 'LeBron James'), instruction_tuned=True))"
      ],
      "metadata": {
        "colab": {
          "base_uri": "https://localhost:8080/"
        },
        "id": "w0uRoqG1XFws",
        "outputId": "170f7b06-61fe-49ab-8cf1-f63252e8883a"
      },
      "execution_count": null,
      "outputs": [
        {
          "output_type": "stream",
          "name": "stdout",
          "text": [
            "(1) Cleveland Cavaliers (2) Los Angeles Lakers (3) Miami Heat (4) Golden State Warriors (5) Boston Celtics (6) San Antonio Spurs (7) New York Knicks (8) Chicago Bulls (9) Philadelphia 76ers (10) Detroit Pistons (11) Oklahoma City Thunder (12) Utah Jazz (13) Toronto Raptors (14) Milwaukee Bucks (15) Indiana Pacers (16) New Orleans Pelicans (17) Atlanta Hawks (18) Portland Trail Blazers\n",
            "LeBron James has won championships with the Miami Heat and the Cleveland Cavaliers.\n"
          ]
        }
      ]
    },
    {
      "cell_type": "code",
      "source": [
        "DISTRICTS_PROMPT = \"How many districts or boroughs are there in {input}?\"\n",
        "print(run_gpt3(DISTRICTS_PROMPT.replace(\"{input}\", 'New York City')))\n",
        "print(run_gpt3(DISTRICTS_PROMPT.replace(\"{input}\", 'New York City'), instruction_tuned=True))"
      ],
      "metadata": {
        "colab": {
          "base_uri": "https://localhost:8080/"
        },
        "id": "xPBT2gY6ZbqO",
        "outputId": "05fe5edd-5a19-4244-d1e3-6de3dea47e73"
      },
      "execution_count": null,
      "outputs": [
        {
          "output_type": "stream",
          "name": "stdout",
          "text": [
            "How many boroughs are there in New York City? How many boroughs are there in New York City? How many boroughs are there in New York City? How many boroughs are there in New York City? How many boroughs are there in New York City? How many boroughs are there in New York City? How many boroughs are there in New York City? How many boroughs are there in New York City? How many boroughs are there in New York City? How\n",
            "There are five boroughs in New York City: Manhattan, Brooklyn, Queens, the Bronx, and Staten Island. Each borough is also divided into several districts, but the exact number of districts varies depending on the borough. For example, Manhattan has 12 districts, while Brooklyn has 18 districts. Overall, there are a total of 59 districts in New York City.\n"
          ]
        }
      ]
    },
    {
      "cell_type": "code",
      "source": [
        "BOOK_CHARACTERS_PROMPT = \"Which character is the villain in the book {input}?\"\n",
        "print(run_gpt3(BOOK_CHARACTERS_PROMPT.replace(\"{input}\", 'The Hunger Games')))\n",
        "print(run_gpt3(BOOK_CHARACTERS_PROMPT.replace(\"{input}\", 'The Hunger Games'), instruction_tuned=True))"
      ],
      "metadata": {
        "colab": {
          "base_uri": "https://localhost:8080/"
        },
        "id": "YCSXIt2bZcas",
        "outputId": "04033efb-17bb-41cc-eab9-f77cca3d316c"
      },
      "execution_count": null,
      "outputs": [
        {
          "output_type": "stream",
          "name": "stdout",
          "text": [
            "Katniss Everdeen Peeta Mellark Gale Hawthorne Finnick Odair\n",
            "The villain in The Hunger Games is President Snow.\n"
          ]
        }
      ]
    },
    {
      "cell_type": "markdown",
      "source": [
        "# Chain-of-Thought Reasoning\n",
        "\n",
        "One recent method to prompt large language models is Chain-of-Thought Prompting. This is similar to few-shot prompting, except you not only provide a few examples, but you also provide an explanation with a reasoning chain to the model. Providing this reasoning chain as been shown to improve performance on a wide variety of tasks.\n",
        "\n",
        "We demonstrate on a task that consists of 2 arithmetic operations over 3 single digit numbers:"
      ],
      "metadata": {
        "id": "bVbLbnc3rbbx"
      }
    },
    {
      "cell_type": "code",
      "source": [
        "FEW_SHOT_ARITHMETIC_PROMPT = \"2 * 4 + 2?\\n10\\n6 + 7 - 2\\n11\\n{input}?\"\n",
        "COT_ARITHMETIC_PROMPT = \"2 * 4 + 2?\\n2 * 4 = 8. 8 + 2 = 10\\n6 + 7 - 2?\\n6 + 7 = 13. 13 - 2 = 11\\n{input}?\"\n",
        "\n",
        "print(run_gpt3(FEW_SHOT_ARITHMETIC_PROMPT.replace(\"{input}\", '20 + 10 - 5'), instruction_tuned=True)) # Doesn't work without CoT prompting\n",
        "print(run_gpt3(COT_ARITHMETIC_PROMPT.replace(\"{input}\", '20 + 10 - 5'), instruction_tuned=True)) # Works!"
      ],
      "metadata": {
        "id": "R0VXpCRMsqUR"
      },
      "execution_count": null,
      "outputs": []
    },
    {
      "cell_type": "markdown",
      "source": [
        "Next, we create a dataset with 50 examples:"
      ],
      "metadata": {
        "id": "Vwy3ToB2wAG9"
      }
    },
    {
      "cell_type": "code",
      "source": [
        "import random\n",
        "import re\n",
        "\n",
        "def compute(x, operand, y):\n",
        "    if operand == '+':\n",
        "        return x + y\n",
        "    elif operand == '-':\n",
        "        return x - y\n",
        "    elif operand == '*':\n",
        "        return x * y\n",
        "\n",
        "def create_arithmetic_dataset(n_examples, seed = 42):\n",
        "    random.seed(seed)\n",
        "    X = []\n",
        "    y = []\n",
        "    for i in range(n_examples):\n",
        "        num_1 = random.randint(10,200)\n",
        "        operator_1 = random.choice(['+', '-', '*'])\n",
        "        num_2 = random.randint(10,200)\n",
        "        operator_2 = random.choice(['+', '-', '*'])\n",
        "        num_3 = random.randint(10,200)\n",
        "        if operator_2 == '*' and operator_1 != '*':\n",
        "            # Order of operations:\n",
        "            # Do the right-hand side first\n",
        "            intermediate = compute(num_2, operator_2, num_3)\n",
        "            final = compute(num_1, operator_1, intermediate)\n",
        "        else:\n",
        "            intermediate = compute(num_1, operator_1, num_2)\n",
        "            final = compute(intermediate, operator_2, num_3)\n",
        "        X.append(f'{num_1} {operator_1} {num_2} {operator_2} {num_3}')\n",
        "        y.append(final)\n",
        "    return X, y\n",
        "\n",
        "def parse_answer(model_output):\n",
        "    '''Parses the output of the model to get the final answer.'''\n",
        "    try:\n",
        "        # Gets the last number in the string using regex and returns\n",
        "        # that\n",
        "        return int(re.search(r'-?\\d+(?!.*-?\\d+)', model_output)[0])\n",
        "    except TypeError:\n",
        "        return None\n",
        "\n",
        "arithmetic_X, arithmetic_y = create_arithmetic_dataset(50)"
      ],
      "metadata": {
        "id": "uaGLMcb20fjK"
      },
      "execution_count": null,
      "outputs": []
    },
    {
      "cell_type": "markdown",
      "source": [
        "We can investigate how few-shot Chain-of-Thought prompting performs vs. regular few-shot prompting over the entire arithmetic dataset and grade how many out of 50 are correct. Here, we perform this experiment 6 times each with a different number of regular few-shot examples (1 example, 2 examples, 4 examples, 8 examples, 16 examples, 32 examples) and 6 times again each with a different number of Chain-of-Thought few-shot examples (1 CoT example, 2 CoT examples, 4 CoT examples, 8 CoT examples, 16 CoT examples, 32 CoT examples).\n",
        "\n",
        "We will also create a plot of (N examples) vs. (% questions correct by the model with a few-shot prompt with N examples) vs. (% questions correct by the model with a CoT prompt with N examples). Make sure you use `instruction_tuned = True`."
      ],
      "metadata": {
        "id": "VHqtOpHp6Vjq"
      }
    },
    {
      "cell_type": "code",
      "source": [
        "def few_shot_prompt(n_examples):\n",
        "  prompt = \"\"\n",
        "  X, y = create_arithmetic_dataset(n_examples)\n",
        "  for i in range(n_examples):\n",
        "    prompt += f\"{X[i]}?\\n{y[i]}\\n\"\n",
        "  prompt += \"{input}?\"\n",
        "  return prompt\n",
        "\n",
        "def cot_prompt(n_examples):\n",
        "  prompt = \"\"\n",
        "  for i in range(n_examples):\n",
        "    num_1 = random.randint(10,200)\n",
        "    operator_1 = random.choice(['+', '-', '*'])\n",
        "    num_2 = random.randint(10,200)\n",
        "    operator_2 = random.choice(['+', '-', '*'])\n",
        "    num_3 = random.randint(10,200)\n",
        "    prompt += f\"{num_1} {operator_1} {num_2} {operator_2} {num_3}?\\n\"\n",
        "    if operator_2 == '*' and operator_1 != '*':\n",
        "        intermediate = compute(num_2, operator_2, num_3)\n",
        "        prompt += f\"{num_2} {operator_2} {num_3} = {intermediate}. \"\n",
        "        final = compute(num_1, operator_1, intermediate)\n",
        "        prompt += f\"{num_1} {operator_1} {intermediate} = {final}\\n\"\n",
        "    else:\n",
        "        intermediate = compute(num_1, operator_1, num_2)\n",
        "        prompt += f\"{num_1} {operator_1} {num_2} = {intermediate}. \"\n",
        "        final = compute(intermediate, operator_2, num_3)\n",
        "        prompt += f\"{intermediate} {operator_2} {num_3} = {final}\\n\"\n",
        "  prompt += \"{input}?\"\n",
        "  return prompt"
      ],
      "metadata": {
        "id": "z34fPG7g7yVM"
      },
      "execution_count": null,
      "outputs": []
    },
    {
      "cell_type": "code",
      "source": [
        "example_sizes = [1, 2, 4, 8, 16, 32]\n",
        "few_shot_results = []\n",
        "cot_results = []\n",
        "\n",
        "for examples in example_sizes:\n",
        "  few_shot_correct = 0\n",
        "  cot_correct = 0\n",
        "  for i in range(50):\n",
        "    few_shot_output = run_gpt3(few_shot_prompt(examples).replace(\"{input}\", arithmetic_X[i]), instruction_tuned=True)\n",
        "    few_shot_answer = parse_answer(few_shot_output)\n",
        "    if few_shot_answer == arithmetic_y[i]:\n",
        "      few_shot_correct += 1\n",
        "\n",
        "    cot_output = run_gpt3(cot_prompt(examples).replace(\"{input}\", arithmetic_X[i]), instruction_tuned=True)\n",
        "    cot_answer = parse_answer(cot_output)\n",
        "    if cot_answer == arithmetic_y[i]:\n",
        "      cot_correct += 1\n",
        "\n",
        "  few_shot_accuracy = few_shot_correct / 50\n",
        "  cot_accuracy = cot_correct / 50\n",
        "\n",
        "  few_shot_results.append((examples, few_shot_accuracy))\n",
        "  cot_results.append((examples, cot_accuracy))\n",
        "\n",
        "  print(f\"number of examples: {examples}, few shot acc: {few_shot_accuracy:.2f}, cot acc: {cot_accuracy:.2f}\")\n",
        "\n",
        "# oops accidentally kept the % in there, ignore that!"
      ],
      "metadata": {
        "colab": {
          "base_uri": "https://localhost:8080/"
        },
        "id": "QJbzp1mIiL8z",
        "outputId": "57c44bb2-298a-4abd-92fa-9a01e06ab26d"
      },
      "execution_count": null,
      "outputs": [
        {
          "output_type": "stream",
          "name": "stdout",
          "text": [
            "number of examples: 1, few shot acc: 0.48%, cot acc: 0.86%\n",
            "number of examples: 2, few shot acc: 0.48%, cot acc: 0.92%\n",
            "number of examples: 4, few shot acc: 0.52%, cot acc: 0.94%\n",
            "number of examples: 8, few shot acc: 0.60%, cot acc: 0.92%\n",
            "number of examples: 16, few shot acc: 0.68%, cot acc: 1.00%\n",
            "number of examples: 32, few shot acc: 0.82%, cot acc: 0.92%\n"
          ]
        }
      ]
    },
    {
      "cell_type": "code",
      "source": [
        "import matplotlib.pyplot as plt\n",
        "\n",
        "few_shot_x, few_shot_y = zip(*few_shot_results)\n",
        "cot_x, cot_y = zip(*cot_results)\n",
        "\n",
        "plt.figure(figsize=(10, 6))\n",
        "plt.plot(few_shot_x, few_shot_y, label='few shot', marker='o')\n",
        "plt.plot(cot_x, cot_y, label='chain of thought', marker='o')\n",
        "\n",
        "plt.title(\"accuracy of few shot vs. chain of thought prompting\")\n",
        "plt.xlabel(\"number of examples in the prompt\")\n",
        "plt.ylabel(\"accuracy\")\n",
        "plt.legend()\n",
        "plt.xticks(few_shot_x)\n",
        "plt.ylim(0, 1)\n",
        "\n",
        "plt.show()"
      ],
      "metadata": {
        "colab": {
          "base_uri": "https://localhost:8080/",
          "height": 564
        },
        "id": "htokscxujoW_",
        "outputId": "389e55e2-f8be-4fce-e7b4-0cae23313f10"
      },
      "execution_count": null,
      "outputs": [
        {
          "output_type": "display_data",
          "data": {
            "text/plain": [
              "<Figure size 1000x600 with 1 Axes>"
            ],
            "image/png": "[encoded data removed]"
          },
          "metadata": {}
        }
      ]
    },
    {
      "cell_type": "markdown",
      "source": [
        "Using chain-of-thought prompting generally produces a higher accuracy than using few-shot only. This suggests that providing explanation and reasoning allows the model to learn how we got to the correct solution, then mimic the same pattern. We can see also that for few-shot prompting, the performance is pretty poor with just 1-2 examples since all we are providing is the input expression and the output value. This increases with more examples in the prompt, but only ever gets to around 80% accuracy even with 32 examples. For chain-of-thought prompting, the accuracy already begins at 86% with just one example with structured reasoning. This increases all the way up to 100% accuracy at one point with 16 examples in the prompt. However, we do see diminishing returns by the time we hit 8 examples as well as a few dips back to 92% accuracy, which could just be due to the fact that the examples in the prompt are generated randomly. Overall, chain-of-thought prompting still outperforms few-shot alone by showing the model how to think, at any number of examples used.\n"
      ],
      "metadata": {
        "id": "kl2oSOxE9vT1"
      }
    }
  ]
}